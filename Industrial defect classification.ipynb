{
  "nbformat": 4,
  "nbformat_minor": 0,
  "metadata": {
    "colab": {
      "provenance": [],
      "gpuType": "T4"
    },
    "kernelspec": {
      "name": "python3",
      "display_name": "Python 3"
    },
    "language_info": {
      "name": "python"
    },
    "accelerator": "GPU"
  },
  "cells": [
    {
      "cell_type": "markdown",
      "source": [],
      "metadata": {
        "id": "1XsPE95HC8AA"
      }
    },
    {
      "cell_type": "markdown",
      "source": [],
      "metadata": {
        "id": "waDa7t2OG8M9"
      }
    },
    {
      "cell_type": "markdown",
      "source": [
        "# Zero-Shot Defect Classification with CLIP (Git + Colab Workflow)\n",
        "\n",
        "Everything you have to do is templated in the notebook. We provide an overview here; but go through the rest of the notebook before you start coding.\n",
        "\n",
        "\n",
        "## Overview\n",
        "\n",
        "In this assignment, you will:\n",
        "- Use OpenAI's CLIP model to perform zero-shot defect classification on the `hazelnut` subset of the MVTec-AD dataset (test split).\n",
        "- Implement a configuration class (Pydantic) and a classification function in Python.\n",
        "- Practice basic Git workflows: branching, committing, merging, and preserving commit history.\n",
        "- Run your completed code on real image data and produce a confusion matrix.\n",
        "\n",
        "All work must be done entirely inside this Colab notebook, including:\n",
        "- Running Git commands\n",
        "- Editing files in the cloned repository\n",
        "- Installing and importing packages\n",
        "\n",
        "We will run the code in this notebook to verify the submission.\n",
        "\n",
        "*The cells marked as 'TO DO' are the ones where you have to edit code (or text).*\n",
        "\n",
        "\n",
        "## References\n",
        "- [CLIP](https://github.com/openai/CLIP)\n",
        "- [MVTec-AD](https://www.mvtec.com/company/research/datasets/mvtec-ad)\n",
        "- [Pydantic](https://docs.pydantic.dev/latest/)\n",
        "- [CLIP-AC (WinCLIP)](https://arxiv.org/abs/2303.14814)\n",
        "  - See section 4.1 in the WinCLIP paper for a\n",
        "    basic two-class design for anomaly classification.\n",
        "  - Extend this to a defect classification problem for multiple defect classes for this task.\n",
        "  - **Note:** Section 4.1 in the WinCLIP paper does *anomaly classification* only; i.e., separate normal images from defective images. It **does not** discriminate the different types of defects. Your task is to classify good as well as different defect types. For example, the class names for some problem will be ['good', 'broken', 'bent', 'cut', etc.]. These are **not** the class names for the current problem - just as an example for the defect classification task."
      ],
      "metadata": {
        "id": "Uni69hgrOgEh"
      }
    },
    {
      "cell_type": "markdown",
      "source": [
        "# Download and extract dataset"
      ],
      "metadata": {
        "id": "vpn8zXSBuREa"
      }
    },
    {
      "cell_type": "code",
      "source": [
        "#@title Download a the dataset sample from Supervisely\n",
        "!curl https://assets.supervisely.com/supervisely-supervisely-assets-public/teams_storage/W/6/pt/ANAGVgKaC62tTrDQWK5JhNP2dd8ynqaTKSM1QdVoAasmTdaLvBwCuW7nCrq9o9lLS2padKnV9QogVGFlEPg7vxEBPIfuFC2Yq7ELNW7xn2t1egLrQPoGpNFJobhh.tar --output mvtec.tar"
      ],
      "metadata": {
        "id": "re_O7sYqsyMm",
        "colab": {
          "base_uri": "https://localhost:8080/"
        },
        "outputId": "78566506-437e-45e4-f87f-92a0fcf39aa8"
      },
      "execution_count": null,
      "outputs": [
        {
          "output_type": "stream",
          "name": "stdout",
          "text": [
            "  % Total    % Received % Xferd  Average Speed   Time    Time     Time  Current\n",
            "                                 Dload  Upload   Total   Spent    Left  Speed\n",
            "100  548M  100  548M    0     0  57.4M      0  0:00:09  0:00:09 --:--:-- 57.3M\n"
          ]
        }
      ]
    },
    {
      "cell_type": "code",
      "source": [
        "#@title Extract the tarball 'mvtec.tar' and look for test images for the hazelnut subset\n",
        "!tar -xf mvtec.tar\n",
        "!ls test/img/hazelnut_*"
      ],
      "metadata": {
        "id": "MZA-1oGGtLlP",
        "colab": {
          "base_uri": "https://localhost:8080/"
        },
        "outputId": "6c886159-e9be-4e54-e41d-b1ef69f58a82"
      },
      "execution_count": null,
      "outputs": [
        {
          "output_type": "stream",
          "name": "stdout",
          "text": [
            "tar: Removing leading `/' from member names\n",
            "test/img/hazelnut_crack_002.png  test/img/hazelnut_print_004.png\n",
            "test/img/hazelnut_cut_003.png\t test/img/hazelnut_print_005.png\n",
            "test/img/hazelnut_good_023.png\t test/img/hazelnut_print_006.png\n",
            "test/img/hazelnut_good_037.png\t test/img/hazelnut_print_007.png\n",
            "test/img/hazelnut_hole_005.png\t test/img/hazelnut_print_009.png\n",
            "test/img/hazelnut_hole_010.png\t test/img/hazelnut_print_011.png\n",
            "test/img/hazelnut_hole_013.png\t test/img/hazelnut_print_012.png\n",
            "test/img/hazelnut_hole_016.png\t test/img/hazelnut_print_013.png\n",
            "test/img/hazelnut_print_003.png  test/img/hazelnut_print_016.png\n"
          ]
        }
      ]
    },
    {
      "cell_type": "markdown",
      "source": [
        "# Clone the repo\n",
        "\n",
        "This is the repo to clone:\n",
        "\n",
        "https://github.com/akridata-ai/ZS-CLIP-AC-naive"
      ],
      "metadata": {
        "id": "OTxq9DihueUO"
      }
    },
    {
      "cell_type": "code",
      "source": [
        "#@title TO DO: Clone the Git repo here, in the Colab runtime\n",
        "!git clone https://github.com/akridata-ai/ZS-CLIP-AC-naive.git\n"
      ],
      "metadata": {
        "id": "czOSoKfOuhx3",
        "colab": {
          "base_uri": "https://localhost:8080/"
        },
        "outputId": "5605e3fc-e9f8-48e3-c4fc-ba36a41436f6"
      },
      "execution_count": null,
      "outputs": [
        {
          "output_type": "stream",
          "name": "stdout",
          "text": [
            "Cloning into 'ZS-CLIP-AC-naive'...\n",
            "remote: Enumerating objects: 16, done.\u001b[K\n",
            "remote: Counting objects: 100% (16/16), done.\u001b[K\n",
            "remote: Compressing objects: 100% (14/14), done.\u001b[K\n",
            "remote: Total 16 (delta 2), reused 13 (delta 0), pack-reused 0 (from 0)\u001b[K\n",
            "Receiving objects: 100% (16/16), done.\n",
            "Resolving deltas: 100% (2/2), done.\n"
          ]
        }
      ]
    },
    {
      "cell_type": "code",
      "source": [
        "#@title Configure git user\n",
        "!git config --global user.email \"nithyashreerani2003@gmail.com\"\n",
        "!git config --global user.name \"Nithya028\""
      ],
      "metadata": {
        "id": "zLGzAuCBwyry"
      },
      "execution_count": null,
      "outputs": []
    },
    {
      "cell_type": "code",
      "source": [
        "#@title Move to the repo for subsequent work\n",
        "%cd /content/ZS-CLIP-AC-naive"
      ],
      "metadata": {
        "id": "sYD_wdCBut3I",
        "colab": {
          "base_uri": "https://localhost:8080/"
        },
        "outputId": "91eddc72-fdc4-421b-f66e-2da3cb24fc97"
      },
      "execution_count": null,
      "outputs": [
        {
          "output_type": "stream",
          "name": "stdout",
          "text": [
            "/content/ZS-CLIP-AC-naive\n"
          ]
        }
      ]
    },
    {
      "cell_type": "code",
      "source": [
        "#@title TO DO: Checkout the EXISTING feature branch in the repository. What's it called? How do you find the names of existing branches?\n",
        "# DO NOT create a new branch!\n",
        "!git branch -a\n",
        "\n",
        "\n"
      ],
      "metadata": {
        "id": "l4KFkPXUvu8U",
        "collapsed": true,
        "colab": {
          "base_uri": "https://localhost:8080/"
        },
        "outputId": "48943bf7-0382-4f9c-fb21-cce14e1e702a"
      },
      "execution_count": null,
      "outputs": [
        {
          "output_type": "stream",
          "name": "stdout",
          "text": [
            "* \u001b[32mmain\u001b[m\n",
            "  \u001b[31mremotes/origin/HEAD\u001b[m -> origin/main\n",
            "  \u001b[31mremotes/origin/feature/template-code\u001b[m\n",
            "  \u001b[31mremotes/origin/main\u001b[m\n"
          ]
        }
      ]
    },
    {
      "cell_type": "code",
      "source": [
        "!git checkout feature/template-code\n"
      ],
      "metadata": {
        "colab": {
          "base_uri": "https://localhost:8080/"
        },
        "id": "cIEcLzX1F4T3",
        "outputId": "88798625-41f7-470a-ada3-703fcd81fae2"
      },
      "execution_count": null,
      "outputs": [
        {
          "output_type": "stream",
          "name": "stdout",
          "text": [
            "Branch 'feature/template-code' set up to track remote branch 'feature/template-code' from 'origin'.\n",
            "Switched to a new branch 'feature/template-code'\n"
          ]
        }
      ]
    },
    {
      "cell_type": "code",
      "source": [
        "#@title Verify that the files appear here\n",
        "!ls"
      ],
      "metadata": {
        "id": "8KNo7_WGyQB4",
        "colab": {
          "base_uri": "https://localhost:8080/"
        },
        "outputId": "57947914-0f0d-44bc-abb5-d85cd5bef926"
      },
      "execution_count": null,
      "outputs": [
        {
          "output_type": "stream",
          "name": "stdout",
          "text": [
            "clip_ac.py  data  README.md  requirements.txt  spec.py\n"
          ]
        }
      ]
    },
    {
      "cell_type": "code",
      "source": [
        "#@title Move images for the hazelnut subset from the test split to the `data` folder in the repository\n",
        "!cp /content/test/img/hazelnut_* data/"
      ],
      "metadata": {
        "id": "E4G1dClq4Srj"
      },
      "execution_count": null,
      "outputs": []
    },
    {
      "cell_type": "code",
      "source": [
        "#@title Install the requirements from the `requirements.txt` file\n",
        "!pip install -qr requirements.txt"
      ],
      "metadata": {
        "id": "OhyMN6QOyyzu",
        "colab": {
          "base_uri": "https://localhost:8080/"
        },
        "outputId": "bd3f84b4-c514-48d0-b7f9-f8d2cad03b0f"
      },
      "execution_count": null,
      "outputs": [
        {
          "output_type": "stream",
          "name": "stdout",
          "text": [
            "  Preparing metadata (setup.py) ... \u001b[?25l\u001b[?25hdone\n",
            "\u001b[2K   \u001b[90m━━━━━━━━━━━━━━━━━━━━━━━━━━━━━━━━━━━━━━━━\u001b[0m \u001b[32m44.8/44.8 kB\u001b[0m \u001b[31m3.2 MB/s\u001b[0m eta \u001b[36m0:00:00\u001b[0m\n",
            "\u001b[?25h  Building wheel for clip (setup.py) ... \u001b[?25l\u001b[?25hdone\n"
          ]
        }
      ]
    },
    {
      "cell_type": "markdown",
      "source": [
        "# Implementation\n",
        "\n",
        "Go through the [CLIP github repo](https://github.com/openai/CLIP) to understand zero-shot classification. Go through section 4.1 in the [WinCLIP paper](https://arxiv.org/abs/2303.14814) to understand zero-shot anomaly classification; they call this `CLIP-AC`.\n",
        "\n",
        "Your task is to extend anomaly classification (just normal vs defective) to do defect classification (normal vs different categories of defects) using the CLIP model.\n",
        "\n",
        "Your model should predict non-defective images as \"good\". For defective images, the defect category should be predicted as the class name. See the image filenames to know the defect categories; or see the [MVTec-AD dataset details](https://openaccess.thecvf.com/content_CVPR_2019/papers/Bergmann_MVTec_AD_--_A_Comprehensive_Real-World_Dataset_for_Unsupervised_Anomaly_CVPR_2019_paper.pdf). This task is only for the `hazelnut` subset.\n",
        "\n",
        "Note that the 'clip' package from OpenAI is installed as part of the requirements in the previous cell."
      ],
      "metadata": {
        "id": "HuBG3dDi8FAm"
      }
    },
    {
      "cell_type": "code",
      "source": [
        "#@title TO DO: Modify `spec.py` and save its contents\n",
        "\n",
        "%%writefile spec.py\n",
        "\"\"\"\n",
        "Spec containing the configuration for the defect classification task\n",
        "\"\"\"\n",
        "from pydantic import BaseModel\n",
        "from typing import List\n",
        "\n",
        "\n",
        "class DefectClassificationSpec(BaseModel):\n",
        "    \"\"\"\n",
        "    Configuration for defect classification.\n",
        "\n",
        "    Attributes:\n",
        "        class_names: List[str]; The list of class names (normal, defect categories).\n",
        "        prompts: List[str]; The list of prompts corresponding to the class names.\n",
        "        model_name (str): Name of the CLIP model variant to use.\n",
        "    \"\"\"\n",
        "    class_names: List[str]\n",
        "    prompts: List[str]\n",
        "    model_name: str = \"ViT-B/32\"   # default model\n"
      ],
      "metadata": {
        "colab": {
          "base_uri": "https://localhost:8080/"
        },
        "id": "nx3qrzMZOTtB",
        "outputId": "dd63cc06-99eb-4a67-969a-c2c211a128c5"
      },
      "execution_count": null,
      "outputs": [
        {
          "output_type": "stream",
          "name": "stdout",
          "text": [
            "Overwriting spec.py\n"
          ]
        }
      ]
    },
    {
      "cell_type": "code",
      "source": [
        "#@title TO DO: Modify `clip_ac.py` and save its contents\n",
        "\n",
        "%%writefile clip_ac.py\n",
        "\"\"\"\n",
        "Zero-shot defect classification using CLIP\n",
        "\"\"\"\n",
        "\n",
        "import clip\n",
        "import torch\n",
        "from PIL import Image\n",
        "from pathlib import Path\n",
        "from typing import List, Tuple\n",
        "from spec import DefectClassificationSpec\n",
        "\n",
        "\n",
        "def classify_defects(spec: DefectClassificationSpec, test_dir: Path) -> Tuple[List[str], List[str]]:\n",
        "    \"\"\"\n",
        "    Zero-shot defect classification using CLIP.\n",
        "\n",
        "    Args:\n",
        "        spec: Pydantic spec containing prompts and model name.\n",
        "        test_dir: Path to the test dataset root.\n",
        "                  For this task, we expect filenames to indicate the ground-truth label.\n",
        "                  E.g. `hazelnut_print_*.png` indicates an image with the 'print' defect class.\n",
        "                  `hazelnut_good_*.png` indicates an image of the good/normal class.\n",
        "\n",
        "    Returns:\n",
        "        y_true: list of ground-truth labels\n",
        "        y_pred: list of predicted labels\n",
        "    \"\"\"\n",
        "    device = \"cuda\" if torch.cuda.is_available() else \"cpu\"\n",
        "    model, preprocess = clip.load(spec.model_name, device=device)\n",
        "\n",
        "    # Encode text prompts for all classes\n",
        "    text_tokens = clip.tokenize(spec.prompts).to(device)\n",
        "    with torch.no_grad():\n",
        "        text_features = model.encode_text(text_tokens)\n",
        "        text_features /= text_features.norm(dim=-1, keepdim=True)\n",
        "\n",
        "    y_true, y_pred = [], []\n",
        "\n",
        "    # Iterate over images in test_dir\n",
        "    for img_path in test_dir.glob(\"hazelnut_*.png\"):\n",
        "        # Ground truth from filename\n",
        "        # e.g. hazelnut_print_123.png → \"print\"\n",
        "        fname = img_path.stem\n",
        "        gt_label = fname.split(\"_\")[1]  # second token is the defect type\n",
        "        y_true.append(gt_label)\n",
        "\n",
        "        # Load and preprocess image\n",
        "        image = preprocess(Image.open(img_path)).unsqueeze(0).to(device)\n",
        "\n",
        "        with torch.no_grad():\n",
        "            image_features = model.encode_image(image)\n",
        "            image_features /= image_features.norm(dim=-1, keepdim=True)\n",
        "\n",
        "            # Similarity scores\n",
        "            sims = (image_features @ text_features.T).squeeze(0)\n",
        "            pred_idx = sims.argmax().item()\n",
        "            pred_label = spec.class_names[pred_idx]\n",
        "            y_pred.append(pred_label)\n",
        "\n",
        "    return y_true, y_pred\n"
      ],
      "metadata": {
        "colab": {
          "base_uri": "https://localhost:8080/"
        },
        "id": "mB3YvJIAOmft",
        "outputId": "f58dffa8-7842-47cc-fb42-32097f8a3a59"
      },
      "execution_count": null,
      "outputs": [
        {
          "output_type": "stream",
          "name": "stdout",
          "text": [
            "Overwriting clip_ac.py\n"
          ]
        }
      ]
    },
    {
      "cell_type": "code",
      "source": [
        "from pathlib import Path\n",
        "from spec import DefectClassificationSpec\n",
        "from clip_ac import classify_defects\n",
        "from sklearn.metrics import confusion_matrix, ConfusionMatrixDisplay\n",
        "import matplotlib.pyplot as plt\n",
        "\n",
        "# Create the spec for hazelnut subset\n",
        "defect_spec = DefectClassificationSpec(\n",
        "    class_names=[\"good\", \"crack\", \"cut\", \"hole\", \"print\"],  # adjust based on dataset file names\n",
        "    prompts=[\n",
        "        \"a photo of a good hazelnut with no defects\",\n",
        "        \"a photo of a hazelnut with a crack defect\",\n",
        "        \"a photo of a hazelnut with a cut defect\",\n",
        "        \"a photo of a hazelnut with a hole defect\",\n",
        "        \"a photo of a hazelnut with a print defect\"\n",
        "    ],\n",
        "    model_name=\"ViT-B/32\"\n",
        ")\n",
        "\n",
        "test_dir = Path(\"data\")\n",
        "y_true, y_pred = classify_defects(defect_spec, test_dir)\n",
        "\n",
        "# Confusion Matrix\n",
        "labels = defect_spec.class_names\n",
        "cm = confusion_matrix(y_true, y_pred, labels=labels)\n",
        "disp = ConfusionMatrixDisplay(confusion_matrix=cm, display_labels=labels)\n",
        "disp.plot(xticks_rotation=45, cmap=\"Blues\")\n",
        "plt.show()\n"
      ],
      "metadata": {
        "colab": {
          "base_uri": "https://localhost:8080/",
          "height": 495
        },
        "id": "-dJXPgfkOpbS",
        "outputId": "ee941815-e818-4d06-9097-1ae8d0ac6b6f"
      },
      "execution_count": null,
      "outputs": [
        {
          "output_type": "stream",
          "name": "stderr",
          "text": [
            "100%|███████████████████████████████████████| 338M/338M [00:07<00:00, 45.5MiB/s]\n"
          ]
        },
        {
          "output_type": "display_data",
          "data": {
            "text/plain": [
              "<Figure size 640x480 with 2 Axes>"
            ],
            "image/png": "[encoded data removed]"
          },
          "metadata": {}
        }
      ]
    },
    {
      "cell_type": "code",
      "source": [
        "#@title TO DO: Print the confusion matrix using the predictions and ground truth labels\n",
        "from sklearn.metrics import confusion_matrix, ConfusionMatrixDisplay\n",
        "import matplotlib.pyplot as plt\n",
        "\n",
        "labels = defect_spec.class_names  # use the spec's class order\n",
        "\n",
        "cm = confusion_matrix(y_true, y_pred, labels=labels)\n",
        "disp = ConfusionMatrixDisplay(confusion_matrix=cm, display_labels=labels)\n",
        "disp.plot(cmap=\"Blues\", xticks_rotation=45)\n",
        "plt.title(\"Confusion Matrix - Hazelnut Defect Classification\")\n",
        "plt.show()\n",
        "from sklearn.metrics import accuracy_score\n",
        "\n",
        "accuracy = accuracy_score(y_true, y_pred)\n",
        "print(f\"Overall Accuracy: {accuracy * 100:.2f}%\")\n",
        "\n"
      ],
      "metadata": {
        "colab": {
          "base_uri": "https://localhost:8080/",
          "height": 512
        },
        "id": "4-s0UAhMPMg-",
        "outputId": "14bfc061-8c8a-4703-e84d-a762ac9a1283"
      },
      "execution_count": null,
      "outputs": [
        {
          "output_type": "display_data",
          "data": {
            "text/plain": [
              "<Figure size 640x480 with 2 Axes>"
            ],
            "image/png": "[encoded data removed]"
          },
          "metadata": {}
        },
        {
          "output_type": "stream",
          "name": "stdout",
          "text": [
            "Overall Accuracy: 5.56%\n"
          ]
        }
      ]
    },
    {
      "cell_type": "markdown",
      "source": [
        "## Observations (TO DO)\n",
        "\n",
        "What did you observe? Will a different classification spec improve things? If yes, then try it out below."
      ],
      "metadata": {
        "id": "gZGz96q1TWZC"
      }
    },
    {
      "cell_type": "markdown",
      "source": [
        "The classify_simple function performs basic defect classification using a single prompt per class. It takes a CLIP model, preprocessing pipeline, classification specification, and validation images as input. The function processes the images, applies the model, and predicts labels, returning both the true and predicted labels for evaluation."
      ],
      "metadata": {
        "id": "QnKjTW7WcB1i"
      }
    },
    {
      "cell_type": "code",
      "source": [],
      "metadata": {
        "id": "roEpizo0cC_e"
      },
      "execution_count": null,
      "outputs": []
    },
    {
      "cell_type": "code",
      "source": [],
      "metadata": {
        "id": "paVDFHfKb_fn"
      },
      "execution_count": null,
      "outputs": []
    },
    {
      "cell_type": "code",
      "source": [],
      "metadata": {
        "id": "VnstWAG8cDWT"
      },
      "execution_count": null,
      "outputs": []
    },
    {
      "cell_type": "code",
      "source": [
        "%%writefile spec0.py\n",
        "\"\"\"\n",
        "Enhanced Spec containing the configuration for the defect classification task\n",
        "with multiple accuracy improvement strategies\n",
        "\"\"\"\n",
        "from pydantic import BaseModel\n",
        "from typing import List, Dict, Optional\n",
        "import itertools\n",
        "\n",
        "class DefectClassificationSpec(BaseModel):\n",
        "    \"\"\"\n",
        "    Enhanced configuration specification for zero-shot defect classification using CLIP.\n",
        "\n",
        "    This class includes multiple strategies to improve classification accuracy:\n",
        "    1. Multiple prompt variations per class\n",
        "    2. Ensemble prompting with different contexts\n",
        "    3. More descriptive and specific language\n",
        "    4. Domain-specific terminology\n",
        "    \"\"\"\n",
        "\n",
        "    model_name: str = \"ViT-B/32\"\n",
        "    \"\"\"CLIP model name to use for classification\"\"\"\n",
        "\n",
        "    class_names: List[str] = [\n",
        "        \"good\",\n",
        "        \"crack\",\n",
        "        \"cut\",\n",
        "        \"hole\",\n",
        "        \"print\"\n",
        "    ]\n",
        "    \"\"\"List of defect class names for hazelnut classification\"\"\"\n",
        "\n",
        "    # Strategy 1: Multiple varied prompts per class for ensemble\n",
        "    ensemble_prompts: Dict[str, List[str]] = {\n",
        "        \"good\": [\n",
        "            \"a photo of a perfect hazelnut with no defects\",\n",
        "            \"a high quality hazelnut without any flaws\",\n",
        "            \"an undamaged hazelnut with smooth surface\",\n",
        "            \"a flawless hazelnut in good condition\",\n",
        "            \"a normal healthy hazelnut\"\n",
        "        ],\n",
        "        \"crack\": [\n",
        "            \"a photo of a hazelnut with visible cracks on the surface\",\n",
        "            \"a cracked hazelnut showing linear fractures\",\n",
        "            \"a hazelnut with crack defects and surface splits\",\n",
        "            \"a damaged hazelnut with crack lines\",\n",
        "            \"a hazelnut showing crack damage\"\n",
        "        ],\n",
        "        \"cut\": [\n",
        "            \"a photo of a hazelnut with cut marks or incisions\",\n",
        "            \"a hazelnut with cutting damage on the surface\",\n",
        "            \"a sliced or cut hazelnut showing damage\",\n",
        "            \"a hazelnut with cut defects and sharp edges\",\n",
        "            \"a hazelnut showing cutting marks\"\n",
        "        ],\n",
        "        \"hole\": [\n",
        "            \"a photo of a hazelnut with holes or punctures\",\n",
        "            \"a hazelnut with hole defects and cavities\",\n",
        "            \"a perforated hazelnut showing holes\",\n",
        "            \"a hazelnut with circular hole damage\",\n",
        "            \"a hazelnut showing puncture holes\"\n",
        "        ],\n",
        "        \"print\": [\n",
        "            \"a photo of a hazelnut with print marks or stains\",\n",
        "            \"a hazelnut with printing defects on the surface\",\n",
        "            \"a hazelnut showing ink marks or print residue\",\n",
        "            \"a hazelnut with print defects and markings\",\n",
        "            \"a hazelnut with visible print contamination\"\n",
        "        ]\n",
        "    }\n",
        "    \"\"\"Dictionary with multiple prompt variations for ensemble classification\"\"\"\n",
        "\n",
        "    # Strategy 2: Simple single prompts (fallback)\n",
        "    text_prompts: Dict[str, str] = {\n",
        "        \"good\": \"a photo of a perfect hazelnut with no defects\",\n",
        "        \"crack\": \"a photo of a hazelnut with crack defects\",\n",
        "        \"cut\": \"a photo of a hazelnut with cut defects\",\n",
        "        \"hole\": \"a photo of a hazelnut with hole defects\",\n",
        "        \"print\": \"a photo of a hazelnut with print defects\"\n",
        "    }\n",
        "    \"\"\"Dictionary mapping class names to single descriptive text prompts for CLIP\"\"\"\n",
        "\n",
        "    # Strategy 3: Negative prompting to improve discrimination\n",
        "    negative_prompts: Dict[str, List[str]] = {\n",
        "        \"good\": [\n",
        "            \"a photo of a damaged hazelnut\",\n",
        "            \"a photo of a defective hazelnut\",\n",
        "            \"a photo of a hazelnut with flaws\"\n",
        "        ],\n",
        "        \"crack\": [\n",
        "            \"a photo of a perfect hazelnut\",\n",
        "            \"a photo of a hazelnut with holes\",\n",
        "            \"a photo of a hazelnut with cuts\"\n",
        "        ],\n",
        "        \"cut\": [\n",
        "            \"a photo of a perfect hazelnut\",\n",
        "            \"a photo of a hazelnut with cracks\",\n",
        "            \"a photo of a hazelnut with holes\"\n",
        "        ],\n",
        "        \"hole\": [\n",
        "            \"a photo of a perfect hazelnut\",\n",
        "            \"a photo of a hazelnut with cracks\",\n",
        "            \"a photo of a hazelnut with cuts\"\n",
        "        ],\n",
        "        \"print\": [\n",
        "            \"a photo of a perfect hazelnut\",\n",
        "            \"a photo of a hazelnut with physical damage\",\n",
        "            \"a photo of a clean hazelnut\"\n",
        "        ]\n",
        "    }\n",
        "    \"\"\"Negative prompts to improve class discrimination\"\"\"\n",
        "\n",
        "    use_ensemble: bool = True\n",
        "    \"\"\"Whether to use ensemble prompting with multiple variations\"\"\"\n",
        "\n",
        "    use_negative_prompts: bool = False\n",
        "    \"\"\"Whether to incorporate negative prompting (experimental)\"\"\"\n",
        "\n",
        "    ensemble_strategy: str = \"average\"\n",
        "    \"\"\"Strategy for combining ensemble results: 'average', 'max', or 'vote'\"\"\"\n",
        "\n",
        "    def get_prompts_list(self) -> List[str]:\n",
        "        \"\"\"\n",
        "        Get ordered list of text prompts corresponding to class names.\n",
        "\n",
        "        Returns:\n",
        "            List of text prompts in the same order as class_names\n",
        "        \"\"\"\n",
        "        if self.use_ensemble:\n",
        "            # Return the first prompt from each ensemble for basic compatibility\n",
        "            return [self.ensemble_prompts[class_name][0] for class_name in self.class_names]\n",
        "        else:\n",
        "            return [self.text_prompts[class_name] for class_name in self.class_names]\n",
        "\n",
        "    def get_all_ensemble_prompts(self) -> List[List[str]]:\n",
        "        \"\"\"\n",
        "        Get all ensemble prompts for each class.\n",
        "\n",
        "        Returns:\n",
        "            List of lists, where each inner list contains all prompts for a class\n",
        "        \"\"\"\n",
        "        return [self.ensemble_prompts[class_name] for class_name in self.class_names]\n",
        "\n",
        "    def get_flattened_ensemble_prompts(self) -> tuple[List[str], List[int]]:\n",
        "        \"\"\"\n",
        "        Get flattened list of all ensemble prompts with class indices.\n",
        "\n",
        "        Returns:\n",
        "            Tuple of (all_prompts, class_indices) where class_indices maps each prompt to its class\n",
        "        \"\"\"\n",
        "        all_prompts = []\n",
        "        class_indices = []\n",
        "\n",
        "        for class_idx, class_name in enumerate(self.class_names):\n",
        "            prompts = self.ensemble_prompts[class_name]\n",
        "            all_prompts.extend(prompts)\n",
        "            class_indices.extend([class_idx] * len(prompts))\n",
        "\n",
        "        return all_prompts, class_indices"
      ],
      "metadata": {
        "colab": {
          "base_uri": "https://localhost:8080/"
        },
        "id": "KYuNIwBKT9uS",
        "outputId": "230a9ab9-5a7d-4965-b0e9-b0b41323e216"
      },
      "execution_count": null,
      "outputs": [
        {
          "output_type": "stream",
          "name": "stdout",
          "text": [
            "Overwriting spec0.py\n"
          ]
        }
      ]
    },
    {
      "cell_type": "code",
      "source": [
        "%%writefile clip_ac0.py\n",
        "\"\"\"\n",
        "Zero-shot defect classification using CLIP\n",
        "\"\"\"\n",
        "\n",
        "import clip\n",
        "import torch\n",
        "from PIL import Image\n",
        "from pathlib import Path\n",
        "from typing import List, Tuple\n",
        "import re\n",
        "from spec0 import DefectClassificationSpec\n",
        "\n",
        "\n",
        "def classify_defects(spec: DefectClassificationSpec, test_dir: Path) -> Tuple[List[str], List[str]]:\n",
        " \"\"\"\n",
        "Enhanced Zero-shot defect classification using CLIP with ensemble prompting\n",
        "\"\"\"\n",
        "\n",
        "import clip\n",
        "import torch\n",
        "import numpy as np\n",
        "from PIL import Image\n",
        "from pathlib import Path\n",
        "from typing import List, Tuple\n",
        "import re\n",
        "from spec import DefectClassificationSpec\n",
        "\n",
        "\n",
        "def classify_defects(spec: DefectClassificationSpec, test_dir: Path) -> Tuple[List[str], List[str]]:\n",
        "    \"\"\"\n",
        "    Enhanced zero-shot defect classification using CLIP with ensemble prompting.\n",
        "\n",
        "    Args:\n",
        "        spec: Pydantic spec containing prompts and model name.\n",
        "        test_dir: Path to the test dataset root.\n",
        "\n",
        "    Returns:\n",
        "        y_true: list of ground-truth labels\n",
        "        y_pred: list of predicted labels\n",
        "    \"\"\"\n",
        "    # Load model\n",
        "    device = \"cuda\" if torch.cuda.is_available() else \"cpu\"\n",
        "    print(f\"Using device: {device}\")\n",
        "    model, preprocess = clip.load(spec.model_name, device=device)\n",
        "\n",
        "    # Get all hazelnut images from the test directory\n",
        "    image_files = list(test_dir.glob(\"hazelnut_*.png\")) + list(test_dir.glob(\"hazelnut_*.jpg\"))\n",
        "    if not image_files:\n",
        "        raise ValueError(f\"No hazelnut images found in {test_dir}\")\n",
        "\n",
        "    print(f\"Found {len(image_files)} hazelnut images\")\n",
        "\n",
        "    # Extract ground truth labels from filenames\n",
        "    y_true = []\n",
        "    valid_images = []\n",
        "\n",
        "    for image_file in image_files:\n",
        "        filename = image_file.name\n",
        "        match = re.search(r'hazelnut_([^_]+)_', filename)\n",
        "\n",
        "        if match:\n",
        "            label = match.group(1)\n",
        "            if label in spec.class_names:\n",
        "                y_true.append(label)\n",
        "                valid_images.append(image_file)\n",
        "            else:\n",
        "                print(f\"Warning: Unknown label '{label}' in file {filename}, skipping\")\n",
        "        else:\n",
        "            print(f\"Warning: Could not extract label from filename {filename}, skipping\")\n",
        "\n",
        "    if not valid_images:\n",
        "        raise ValueError(\"No valid images with recognizable labels found\")\n",
        "\n",
        "    print(f\"Processing {len(valid_images)} valid images\")\n",
        "\n",
        "    # Choose classification strategy based on spec settings\n",
        "    if spec.use_ensemble:\n",
        "        return classify_with_ensemble(model, preprocess, spec, valid_images, y_true, device)\n",
        "    else:\n",
        "        return classify_simple(model, preprocess, spec, valid_images, y_true, device)\n",
        "\n",
        "\n",
        "def classify_simple(model, preprocess, spec: DefectClassificationSpec,\n",
        "                   valid_images: List, y_true: List[str], device: str) -> Tuple[List[str], List[str]]:\n",
        "    \"\"\"Simple classification with single prompts per class.\"\"\"\n",
        "\n",
        "    # Encode text prompts for all classes\n",
        "    text_prompts = spec.get_prompts_list()\n",
        "    text_tokens = clip.tokenize(text_prompts).to(device)\n",
        "\n",
        "    with torch.no_grad():\n",
        "        text_features = model.encode_text(text_tokens)\n",
        "        text_features = text_features / text_features.norm(dim=-1, keepdim=True)\n",
        "\n",
        "    y_pred = []\n",
        "\n",
        "    # Process each image\n",
        "    for i, image_file in enumerate(valid_images):\n",
        "        try:\n",
        "            # Load and preprocess image\n",
        "            image = Image.open(image_file).convert('RGB')\n",
        "            image_input = preprocess(image).unsqueeze(0).to(device)\n",
        "\n",
        "            # Get image features\n",
        "            with torch.no_grad():\n",
        "                image_features = model.encode_image(image_input)\n",
        "                image_features = image_features / image_features.norm(dim=-1, keepdim=True)\n",
        "\n",
        "                # Calculate similarities\n",
        "                similarities = (image_features @ text_features.T).squeeze(0)\n",
        "\n",
        "                # Get prediction\n",
        "                predicted_idx = similarities.argmax().item()\n",
        "                predicted_label = spec.class_names[predicted_idx]\n",
        "                y_pred.append(predicted_label)\n",
        "\n",
        "                # Print progress\n",
        "                max_similarity = similarities[predicted_idx].item()\n",
        "                print(f\"Image {i+1}/{len(valid_images)}: {image_file.name} | True: {y_true[i]} | Pred: {predicted_label} | Conf: {max_similarity:.3f}\")\n",
        "\n",
        "        except Exception as e:\n",
        "            print(f\"Error processing {image_file}: {e}\")\n",
        "            continue\n",
        "\n",
        "    return y_true[:len(y_pred)], y_pred\n"
      ],
      "metadata": {
        "colab": {
          "base_uri": "https://localhost:8080/"
        },
        "id": "YEw-0Kz2UIri",
        "outputId": "46f0f4fc-4b10-46cb-94e0-ed0e083a310d"
      },
      "execution_count": null,
      "outputs": [
        {
          "output_type": "stream",
          "name": "stdout",
          "text": [
            "Overwriting clip_ac0.py\n"
          ]
        }
      ]
    },
    {
      "cell_type": "code",
      "source": [
        "\"\"\"\n",
        "Comprehensive testing script to evaluate different CLIP configurations\n",
        "\"\"\"\n",
        "from pathlib import Path\n",
        "from spec0 import DefectClassificationSpec\n",
        "from clip_ac0 import classify_defects\n",
        "from sklearn.metrics import confusion_matrix, classification_report, accuracy_score\n",
        "import matplotlib.pyplot as plt\n",
        "import seaborn as sns\n",
        "import numpy as np\n",
        "\n",
        "def print_confusion_matrix(y_true, y_pred, class_names, title=\"Confusion Matrix\"):\n",
        "    \"\"\"Print and visualize confusion matrix with metrics.\"\"\"\n",
        "\n",
        "    # Calculate accuracy\n",
        "    accuracy = accuracy_score(y_true, y_pred)\n",
        "    print(f\"\\n{title}\")\n",
        "    print(f\"Accuracy: {accuracy:.3f}\")\n",
        "    print(\"-\" * 50)\n",
        "\n",
        "    # Print classification report\n",
        "    print(\"\\nClassification Report:\")\n",
        "    print(classification_report(y_true, y_pred, target_names=class_names, zero_division=0))\n",
        "\n",
        "    # Create confusion matrix\n",
        "    cm = confusion_matrix(y_true, y_pred, labels=class_names)\n",
        "\n",
        "    # Plot confusion matrix\n",
        "    plt.figure(figsize=(8, 6))\n",
        "    sns.heatmap(cm, annot=True, fmt='d', cmap='Blues',\n",
        "                xticklabels=class_names, yticklabels=class_names)\n",
        "    plt.title(f'{title} (Accuracy: {accuracy:.3f})')\n",
        "    plt.ylabel('True Label')\n",
        "    plt.xlabel('Predicted Label')\n",
        "    plt.tight_layout()\n",
        "    plt.show()\n",
        "\n",
        "    return accuracy, cm\n",
        "\n",
        "def test_configuration_1():\n",
        "    \"\"\"Test basic configuration with simple prompts.\"\"\"\n",
        "    print(\"=\" * 60)\n",
        "    print(\"TESTING CONFIGURATION 1: Basic Single Prompts\")\n",
        "    print(\"=\" * 60)\n",
        "\n",
        "    spec = DefectClassificationSpec(\n",
        "        model_name=\"ViT-B/32\",\n",
        "        use_ensemble=False,\n",
        "        class_names=[\"good\", \"crack\", \"cut\", \"hole\", \"print\"]\n",
        "    )\n",
        "\n",
        "    test_dir = Path(\"data\")\n",
        "    y_true, y_pred = classify_defects(spec, test_dir)\n",
        "\n",
        "    accuracy, cm = print_confusion_matrix(y_true, y_pred, spec.class_names,\n",
        "                                        \"Configuration 1: Basic Prompts\")\n",
        "    return accuracy, y_true, y_pred\n",
        "\n",
        "def run_all_tests():\n",
        "    \"\"\"Run all test configurations and compare results.\"\"\"\n",
        "\n",
        "    results = {}\n",
        "\n",
        "    # Test all configurations\n",
        "    print(\"Starting comprehensive testing of CLIP defect classification...\")\n",
        "\n",
        "    # Configuration 1: Basic\n",
        "    acc1, y_true1, y_pred1 = test_configuration_1()\n",
        "    results['Basic Single Prompts'] = acc1\n",
        "\n",
        "\n",
        "    # Summary\n",
        "    print(\"\\n\" + \"=\" * 60)\n",
        "    print(\"SUMMARY OF ALL CONFIGURATIONS\")\n",
        "    print(\"=\" * 60)\n",
        "\n",
        "    for config_name, accuracy in results.items():\n",
        "        print(f\"{config_name:<25}: {accuracy:.3f}\")\n",
        "\n",
        "    best_config = max(results.items(), key=lambda x: x[1])\n",
        "    print(f\"\\nBest Configuration: {best_config[0]} with accuracy {best_config[1]:.3f}\")\n",
        "\n",
        "    return results\n",
        "\n",
        "# Quick test function for single configuration\n",
        "def quick_test():\n",
        "    \"\"\"Quick test with best recommended configuration.\"\"\"\n",
        "    print(\"Running quick test with recommended configuration...\")\n",
        "\n",
        "    spec = DefectClassificationSpec(\n",
        "        model_name=\"ViT-B/32\",\n",
        "        use_ensemble=True,\n",
        "        ensemble_strategy=\"average\",\n",
        "        class_names=[\"good\", \"crack\", \"cut\", \"hole\", \"print\"]\n",
        "    )\n",
        "\n",
        "    test_dir = Path(\"data\")\n",
        "    y_true, y_pred = classify_defects(spec, test_dir)\n",
        "\n",
        "    accuracy, cm = print_confusion_matrix(y_true, y_pred, spec.class_names,\n",
        "                                        \"Quick Test: Recommended Config\")\n",
        "\n",
        "    return y_true, y_pred, accuracy\n",
        "\n",
        "if __name__ == \"__main__\":\n",
        "    # Run comprehensive testing\n",
        "    run_all_tests()\n",
        "\n",
        "    # Or run just quick test\n",
        "    # quick_test()"
      ],
      "metadata": {
        "colab": {
          "base_uri": "https://localhost:8080/",
          "height": 1000
        },
        "id": "4YX8QIN9UO4s",
        "outputId": "58ef4a9d-66d0-41b3-8f14-09569f24e57a"
      },
      "execution_count": null,
      "outputs": [
        {
          "output_type": "stream",
          "name": "stdout",
          "text": [
            "Starting comprehensive testing of CLIP defect classification...\n",
            "============================================================\n",
            "TESTING CONFIGURATION 1: Basic Single Prompts\n",
            "============================================================\n",
            "Using device: cuda\n",
            "Found 18 hazelnut images\n",
            "Processing 18 valid images\n",
            "Image 1/18: hazelnut_print_016.png | True: print | Pred: print | Conf: 0.344\n",
            "Image 2/18: hazelnut_print_009.png | True: print | Pred: cut | Conf: 0.343\n",
            "Image 3/18: hazelnut_print_011.png | True: print | Pred: cut | Conf: 0.302\n",
            "Image 4/18: hazelnut_print_004.png | True: print | Pred: print | Conf: 0.304\n",
            "Image 5/18: hazelnut_good_037.png | True: good | Pred: cut | Conf: 0.342\n",
            "Image 6/18: hazelnut_cut_003.png | True: cut | Pred: cut | Conf: 0.328\n",
            "Image 7/18: hazelnut_hole_005.png | True: hole | Pred: hole | Conf: 0.331\n",
            "Image 8/18: hazelnut_print_006.png | True: print | Pred: print | Conf: 0.317\n",
            "Image 9/18: hazelnut_crack_002.png | True: crack | Pred: cut | Conf: 0.336\n",
            "Image 10/18: hazelnut_print_013.png | True: print | Pred: print | Conf: 0.312\n",
            "Image 11/18: hazelnut_print_005.png | True: print | Pred: print | Conf: 0.347\n",
            "Image 12/18: hazelnut_print_012.png | True: print | Pred: print | Conf: 0.326\n",
            "Image 13/18: hazelnut_hole_010.png | True: hole | Pred: cut | Conf: 0.349\n",
            "Image 14/18: hazelnut_hole_016.png | True: hole | Pred: cut | Conf: 0.339\n",
            "Image 15/18: hazelnut_good_023.png | True: good | Pred: cut | Conf: 0.285\n",
            "Image 16/18: hazelnut_print_007.png | True: print | Pred: print | Conf: 0.357\n",
            "Image 17/18: hazelnut_print_003.png | True: print | Pred: cut | Conf: 0.342\n",
            "Image 18/18: hazelnut_hole_013.png | True: hole | Pred: cut | Conf: 0.359\n",
            "\n",
            "Configuration 1: Basic Prompts\n",
            "Accuracy: 0.500\n",
            "--------------------------------------------------\n",
            "\n",
            "Classification Report:\n",
            "              precision    recall  f1-score   support\n",
            "\n",
            "        good       0.00      0.00      0.00         1\n",
            "       crack       0.10      1.00      0.18         1\n",
            "         cut       0.00      0.00      0.00         2\n",
            "        hole       1.00      0.25      0.40         4\n",
            "       print       1.00      0.70      0.82        10\n",
            "\n",
            "    accuracy                           0.50        18\n",
            "   macro avg       0.42      0.39      0.28        18\n",
            "weighted avg       0.78      0.50      0.56        18\n",
            "\n"
          ]
        },
        {
          "output_type": "display_data",
          "data": {
            "text/plain": [
              "<Figure size 800x600 with 2 Axes>"
            ],
            "image/png": "[encoded data removed]"
          },
          "metadata": {}
        },
        {
          "output_type": "stream",
          "name": "stdout",
          "text": [
            "\n",
            "============================================================\n",
            "SUMMARY OF ALL CONFIGURATIONS\n",
            "============================================================\n",
            "Basic Single Prompts     : 0.500\n",
            "\n",
            "Best Configuration: Basic Single Prompts with accuracy 0.500\n"
          ]
        }
      ]
    },
    {
      "cell_type": "markdown",
      "source": [
        "# **WINCLIP IMPLEMENTATION**\n",
        "Implements zero-shot defect classification using CLIP, enhanced with WinCLIP-style adaptations (patch extraction + prompt ensembles).\n",
        "\n",
        "Splits each test image into sliding window patches (patch_size, stride) and classifies each patch with CLIP.\n",
        "\n",
        "Uses prompt ensembling (multiple textual prompts per class) to improve text embeddings for better alignment.\n",
        "\n",
        "Each patch is classified by comparing its image embedding with class text embeddings using cosine similarity.\n",
        "\n",
        "Patch-level predictions are aggregated into an image-level prediction using either majority voting or max-confidence aggregation.\n",
        "\n",
        "Ground-truth labels are extracted from filenames (e.g., hazelnut_print_x.png → \"print\").\n",
        "\n",
        "Provides a full evaluation pipeline (accuracy, precision, recall, F1-score, classification report)."
      ],
      "metadata": {
        "id": "NV0C21DFWELQ"
      }
    },
    {
      "cell_type": "code",
      "source": [
        "#@title TO DO: Modify `spec.py` and save its contents\n",
        "%%writefile spec1.py\n",
        "\"\"\"\n",
        "Spec containing the configuration for the defect classification task\n",
        "\"\"\"\n",
        "from pydantic import BaseModel\n",
        "from typing import List, Dict\n",
        "\n",
        "\n",
        "class DefectClassificationSpec(BaseModel):\n",
        "    \"\"\"\n",
        "    Configuration for defect classification.\n",
        "\n",
        "    Attributes:\n",
        "        class_names: List[str]; The list of class names (normal, defect categories).\n",
        "        prompts: Dict[str, List[str]]; Dictionary mapping class names to multiple prompt templates.\n",
        "        model_name (str): Name of the CLIP model variant to use.\n",
        "        patch_size (int): Size of sliding window patches (e.g., 64, 128).\n",
        "        stride (int): Stride for sliding window (overlap control).\n",
        "        confidence_threshold (float): Threshold for good vs defect classification.\n",
        "        aggregation_method (str): Method for aggregating patch predictions ('majority_vote' or 'max_confidence').\n",
        "    \"\"\"\n",
        "\n",
        "    class_names: List[str] = [\n",
        "        \"good\", \"crack\", \"cut\", \"hole\", \"print\"\n",
        "    ]\n",
        "\n",
        "    prompts: Dict[str, List[str]] = {\n",
        "    \"good\": [\n",
        "        \"a flawless hazelnut with perfect smooth surface and no defects\",\n",
        "        \"a pristine undamaged hazelnut with clean natural shell\",\n",
        "        \"a healthy intact hazelnut without any marks or damage\",\n",
        "        \"a normal hazelnut with no holes, cracks, cuts, or printing\"\n",
        "    ],\n",
        "    \"hole\": [\n",
        "        \"a severely damaged hazelnut with large deep circular hole\",\n",
        "        \"a punctured hazelnut with obvious round opening through shell\",\n",
        "        \"a hazelnut with major hole damage and visible cavity\",\n",
        "        \"a broken hazelnut with clear circular puncture wound\"\n",
        "    ],\n",
        "    \"crack\": [\n",
        "        \"a heavily cracked hazelnut with deep visible fracture lines\",\n",
        "        \"a severely damaged hazelnut with obvious splitting breaks\",\n",
        "        \"a broken hazelnut shell with major crack damage\",\n",
        "        \"a fractured hazelnut with clear linear splitting marks\"\n",
        "    ],\n",
        "    \"cut\": [\n",
        "        \"a hazelnut with precise straight blade cut completely through\",\n",
        "        \"a cleanly sliced hazelnut showing sharp linear cutting edge\",\n",
        "        \"a hazelnut cut in half with obvious straight blade marks\",\n",
        "        \"a surgically cut hazelnut with clean linear slice damage\"\n",
        "    ],\n",
        "    \"print\": [\n",
        "        \"a hazelnut with obvious dark text letters clearly printed on surface\",\n",
        "        \"a hazelnut with distinct readable ink markings and characters\",\n",
        "        \"a hazelnut showing clear artificial text printing overlay\",\n",
        "        \"a hazelnut with visible stamped letters and readable text marks\"\n",
        "    ]\n",
        "}\n",
        "\n",
        "    model_name: str = \"ViT-B/32\"\n",
        "    patch_size: int = 128\n",
        "    stride: int = 64\n",
        "    confidence_threshold: float = 0.3\n",
        "    aggregation_method: str = \"max_confidence\"  # or \"majority_vote\""
      ],
      "metadata": {
        "id": "n42_SESSvxgn",
        "colab": {
          "base_uri": "https://localhost:8080/"
        },
        "outputId": "1a20eac2-1843-499f-e3c0-989454128d7f"
      },
      "execution_count": null,
      "outputs": [
        {
          "output_type": "stream",
          "name": "stdout",
          "text": [
            "Writing spec1.py\n"
          ]
        }
      ]
    },
    {
      "cell_type": "code",
      "source": [
        "#@title TO DO: Modify `clip_ac.py` and save its contents\n",
        "%%writefile clip_ac1.py\n",
        "\"\"\"\n",
        "Zero-shot defect classification using CLIP with WinCLIP adaptations\n",
        "\"\"\"\n",
        "\n",
        "import clip\n",
        "import torch\n",
        "import torch.nn.functional as F\n",
        "import numpy as np\n",
        "from PIL import Image\n",
        "from pathlib import Path\n",
        "from typing import List, Tuple, Dict\n",
        "from collections import Counter\n",
        "import re\n",
        "from spec1 import DefectClassificationSpec\n",
        "\n",
        "\n",
        "def extract_patches(image: Image.Image, patch_size: int, stride: int) -> List[Image.Image]:\n",
        "    \"\"\"\n",
        "    Extract sliding window patches from an image.\n",
        "\n",
        "    Args:\n",
        "        image: PIL Image\n",
        "        patch_size: Size of square patches\n",
        "        stride: Stride for sliding window\n",
        "\n",
        "    Returns:\n",
        "        List of PIL Image patches\n",
        "    \"\"\"\n",
        "    patches = []\n",
        "    width, height = image.size\n",
        "\n",
        "    for y in range(0, height - patch_size + 1, stride):\n",
        "        for x in range(0, width - patch_size + 1, stride):\n",
        "            patch = image.crop((x, y, x + patch_size, y + patch_size))\n",
        "            patches.append(patch)\n",
        "\n",
        "    return patches\n",
        "\n",
        "\n",
        "def encode_prompt_ensemble(model, prompts: List[str], device: str) -> torch.Tensor:\n",
        "    \"\"\"\n",
        "    Encode multiple prompts and return their average embedding.\n",
        "\n",
        "    Args:\n",
        "        model: CLIP model\n",
        "        prompts: List of prompt strings\n",
        "        device: Device to run on\n",
        "\n",
        "    Returns:\n",
        "        Averaged text features tensor\n",
        "    \"\"\"\n",
        "    text_tokens = clip.tokenize(prompts).to(device)\n",
        "    with torch.no_grad():\n",
        "        text_features = model.encode_text(text_tokens)\n",
        "        text_features = F.normalize(text_features, dim=-1)\n",
        "        # Average the embeddings for ensemble effect\n",
        "        return text_features.mean(dim=0, keepdim=True)\n",
        "\n",
        "\n",
        "def classify_patch(patch: Image.Image, model, preprocess, text_features_dict: Dict[str, torch.Tensor],\n",
        "                  device: str, class_names: List[str]) -> Tuple[str, Dict[str, float]]:\n",
        "    \"\"\"\n",
        "    Classify a single patch using CLIP.\n",
        "\n",
        "    Args:\n",
        "        patch: PIL Image patch\n",
        "        model: CLIP model\n",
        "        preprocess: CLIP preprocessing function\n",
        "        text_features_dict: Dictionary mapping class names to text features\n",
        "        device: Device to run on\n",
        "        class_names: List of class names\n",
        "\n",
        "    Returns:\n",
        "        Predicted class name and confidence scores for all classes\n",
        "    \"\"\"\n",
        "    # Preprocess and encode image\n",
        "    image_input = preprocess(patch).unsqueeze(0).to(device)\n",
        "\n",
        "    with torch.no_grad():\n",
        "        image_features = model.encode_image(image_input)\n",
        "        image_features = F.normalize(image_features, dim=-1)\n",
        "\n",
        "        # Compute similarities with all class text features\n",
        "        similarities = {}\n",
        "        for class_name in class_names:\n",
        "            similarity = torch.cosine_similarity(image_features, text_features_dict[class_name])\n",
        "            similarities[class_name] = similarity.item()\n",
        "\n",
        "        # Get predicted class\n",
        "        predicted_class = max(similarities.keys(), key=lambda k: similarities[k])\n",
        "\n",
        "        return predicted_class, similarities\n",
        "\n",
        "\n",
        "def aggregate_patch_predictions(patch_predictions: List[Tuple[str, Dict[str, float]]],\n",
        "                              spec: DefectClassificationSpec) -> str:\n",
        "    \"\"\"\n",
        "    Aggregate patch-level predictions to image-level prediction.\n",
        "\n",
        "    Args:\n",
        "        patch_predictions: List of (predicted_class, confidence_dict) tuples\n",
        "        spec: Configuration spec\n",
        "\n",
        "    Returns:\n",
        "        Final predicted class for the image\n",
        "    \"\"\"\n",
        "    class_names = spec.class_names\n",
        "    defect_classes = [cls for cls in class_names if cls != \"good\"]\n",
        "\n",
        "    if spec.aggregation_method == \"majority_vote\":\n",
        "        # Count votes for each class\n",
        "        votes = [pred[0] for pred in patch_predictions]\n",
        "        vote_counts = Counter(votes)\n",
        "\n",
        "        # Check if any defect class has significant votes\n",
        "        total_patches = len(patch_predictions)\n",
        "        for defect_class in defect_classes:\n",
        "            if vote_counts.get(defect_class, 0) / total_patches > spec.confidence_threshold:\n",
        "                return defect_class\n",
        "\n",
        "        return \"good\"\n",
        "\n",
        "    elif spec.aggregation_method == \"max_confidence\":\n",
        "        # For each defect class, find the maximum confidence across all patches\n",
        "        max_confidences = {}\n",
        "        for defect_class in defect_classes:\n",
        "            max_conf = max([pred[1][defect_class] for pred in patch_predictions])\n",
        "            max_confidences[defect_class] = max_conf\n",
        "\n",
        "        # Find the defect class with highest max confidence\n",
        "        best_defect = max(max_confidences.keys(), key=lambda k: max_confidences[k])\n",
        "        best_confidence = max_confidences[best_defect]\n",
        "\n",
        "        # Check if confidence exceeds threshold\n",
        "        if best_confidence > spec.confidence_threshold:\n",
        "            return best_defect\n",
        "        else:\n",
        "            return \"good\"\n",
        "\n",
        "    else:\n",
        "        raise ValueError(f\"Unknown aggregation method: {spec.aggregation_method}\")\n",
        "\n",
        "\n",
        "def extract_label_from_filename(filename: str) -> str:\n",
        "    \"\"\"\n",
        "    Extract ground truth label from filename.\n",
        "    Expected format: hazelnut_{label}_*.png\n",
        "\n",
        "    Args:\n",
        "        filename: Image filename\n",
        "\n",
        "    Returns:\n",
        "        Ground truth label\n",
        "    \"\"\"\n",
        "    # Extract label using regex pattern\n",
        "    match = re.search(r'hazelnut_(\\w+)_', filename)\n",
        "    if match:\n",
        "        return match.group(1)\n",
        "    else:\n",
        "        # Fallback: assume the label is the second part when split by underscore\n",
        "        parts = filename.split('_')\n",
        "        if len(parts) >= 2:\n",
        "            return parts[1]\n",
        "        else:\n",
        "            raise ValueError(f\"Cannot extract label from filename: {filename}\")\n",
        "\n",
        "\n",
        "def classify_defects(spec: DefectClassificationSpec, test_dir: Path) -> Tuple[List[str], List[str]]:\n",
        "    \"\"\"\n",
        "    Zero-shot defect classification using CLIP with WinCLIP adaptations.\n",
        "\n",
        "    Args:\n",
        "        spec: Pydantic spec containing prompts and model name.\n",
        "        test_dir: Path to the test dataset root.\n",
        "                For this task, we expect filenames to indicate the ground-truth label.\n",
        "                E.g. `hazelnut_print_*.png` indicates an image with the 'print' defect class.\n",
        "                There are a few other kinds of defects too; find these from the file names.\n",
        "                `hazelnut_good_*.png` indicates an image of the good/normal class.\n",
        "\n",
        "    Returns:\n",
        "        y_true: list of ground-truth labels\n",
        "        y_pred: list of predicted labels\n",
        "    \"\"\"\n",
        "    # Load model\n",
        "    device = \"cuda\" if torch.cuda.is_available() else \"cpu\"\n",
        "    model, preprocess = clip.load(spec.model_name, device=device)\n",
        "\n",
        "    print(f\"Loaded CLIP model: {spec.model_name} on {device}\")\n",
        "    print(f\"Using patch size: {spec.patch_size}x{spec.patch_size}, stride: {spec.stride}\")\n",
        "\n",
        "    # Encode text prompts for all classes using prompt ensembles\n",
        "    text_features_dict = {}\n",
        "    print(\"Encoding prompt ensembles...\")\n",
        "\n",
        "    for class_name in spec.class_names:\n",
        "        prompts = spec.prompts[class_name]\n",
        "        text_features = encode_prompt_ensemble(model, prompts, device)\n",
        "        text_features_dict[class_name] = text_features\n",
        "        print(f\"  {class_name}: {len(prompts)} prompts encoded\")\n",
        "\n",
        "    # Load images and extract labels\n",
        "    image_files = list(test_dir.glob(\"*.png\")) + list(test_dir.glob(\"*.jpg\")) + list(test_dir.glob(\"*.jpeg\"))\n",
        "\n",
        "    if not image_files:\n",
        "        raise ValueError(f\"No image files found in {test_dir}\")\n",
        "\n",
        "    print(f\"Found {len(image_files)} images\")\n",
        "\n",
        "    y_true = []\n",
        "    y_pred = []\n",
        "\n",
        "    # Process each image\n",
        "    for i, image_path in enumerate(image_files):\n",
        "        print(f\"Processing {i+1}/{len(image_files)}: {image_path.name}\")\n",
        "\n",
        "        # Extract ground truth label from filename\n",
        "        try:\n",
        "            true_label = extract_label_from_filename(image_path.name)\n",
        "            y_true.append(true_label)\n",
        "        except ValueError as e:\n",
        "            print(f\"Warning: {e}\")\n",
        "            continue\n",
        "\n",
        "        # Load and process image\n",
        "        try:\n",
        "            image = Image.open(image_path).convert(\"RGB\")\n",
        "        except Exception as e:\n",
        "            print(f\"Error loading image {image_path}: {e}\")\n",
        "            continue\n",
        "\n",
        "        # Extract patches using sliding window\n",
        "        patches = extract_patches(image, spec.patch_size, spec.stride)\n",
        "\n",
        "        if not patches:\n",
        "            print(f\"Warning: No patches extracted from {image_path.name}\")\n",
        "            y_pred.append(\"good\")  # Default fallback\n",
        "            continue\n",
        "\n",
        "        print(f\"  Extracted {len(patches)} patches\")\n",
        "\n",
        "        # Classify each patch\n",
        "        patch_predictions = []\n",
        "        for patch in patches:\n",
        "            pred_class, confidences = classify_patch(\n",
        "                patch, model, preprocess, text_features_dict, device, spec.class_names\n",
        "            )\n",
        "            patch_predictions.append((pred_class, confidences))\n",
        "\n",
        "        # Aggregate patch predictions to image-level prediction\n",
        "        final_prediction = aggregate_patch_predictions(patch_predictions, spec)\n",
        "        y_pred.append(final_prediction)\n",
        "\n",
        "        print(f\"  Ground truth: {true_label}, Predicted: {final_prediction}\")\n",
        "\n",
        "    return y_true, y_pred\n",
        "\n",
        "\n",
        "def evaluate_performance(y_true: List[str], y_pred: List[str]) -> Dict[str, float]:\n",
        "    \"\"\"\n",
        "    Evaluate classification performance.\n",
        "\n",
        "    Args:\n",
        "        y_true: Ground truth labels\n",
        "        y_pred: Predicted labels\n",
        "\n",
        "    Returns:\n",
        "        Dictionary with performance metrics\n",
        "    \"\"\"\n",
        "    from sklearn.metrics import accuracy_score, precision_recall_fscore_support, classification_report\n",
        "\n",
        "    accuracy = accuracy_score(y_true, y_pred)\n",
        "    precision, recall, f1, _ = precision_recall_fscore_support(y_true, y_pred, average='weighted')\n",
        "\n",
        "    print(\"\\n\" + \"=\"*50)\n",
        "    print(\"CLASSIFICATION RESULTS\")\n",
        "    print(\"=\"*50)\n",
        "    print(f\"Overall Accuracy: {accuracy:.4f}\")\n",
        "    print(f\"Weighted Precision: {precision:.4f}\")\n",
        "    print(f\"Weighted Recall: {recall:.4f}\")\n",
        "    print(f\"Weighted F1-Score: {f1:.4f}\")\n",
        "    print(\"\\nDetailed Classification Report:\")\n",
        "    print(classification_report(y_true, y_pred))\n",
        "\n",
        "    return {\n",
        "        \"accuracy\": accuracy,\n",
        "        \"precision\": precision,\n",
        "        \"recall\": recall,\n",
        "        \"f1_score\": f1\n",
        "    }\n",
        "\n",
        "\n",
        "if __name__ == \"__main__\":\n",
        "    # Example usage\n",
        "    spec = DefectClassificationSpec()\n",
        "    test_dir = Path(\"path/to/your/test/images\")  # Update this path\n",
        "\n",
        "    try:\n",
        "        y_true, y_pred = classify_defects(spec, test_dir)\n",
        "        metrics = evaluate_performance(y_true, y_pred)\n",
        "    except Exception as e:\n",
        "        print(f\"Error during classification: {e}\")"
      ],
      "metadata": {
        "id": "vodMkfqP8AWJ",
        "colab": {
          "base_uri": "https://localhost:8080/"
        },
        "outputId": "1719ba9c-a70c-4184-cba9-7f1469d4502a"
      },
      "execution_count": null,
      "outputs": [
        {
          "output_type": "stream",
          "name": "stdout",
          "text": [
            "Overwriting clip_ac1.py\n"
          ]
        }
      ]
    },
    {
      "cell_type": "code",
      "source": [],
      "metadata": {
        "id": "KFk0HjcZ8ZrZ"
      },
      "execution_count": null,
      "outputs": []
    },
    {
      "cell_type": "code",
      "source": [
        "# Improved execution with better prompts and logic\n",
        "from pathlib import Path\n",
        "from spec1 import DefectClassificationSpec\n",
        "from clip_ac1 import classify_defects, evaluate_performance\n",
        "\n",
        "# SOLUTION 1: Improved prompts with more distinctive descriptions\n",
        "improved_defect_spec = DefectClassificationSpec(\n",
        "    prompts={\n",
        "        \"good\": [\n",
        "            \"a perfect smooth hazelnut\",\n",
        "            \"an intact hazelnut with no damage\",\n",
        "            \"a flawless hazelnut surface\",\n",
        "            \"a normal undamaged hazelnut\"\n",
        "        ],\n",
        "        \"crack\": [\n",
        "            \"a hazelnut with visible cracks and fractures\",\n",
        "            \"a broken hazelnut shell with splits\",\n",
        "            \"a damaged hazelnut with surface cracks\",\n",
        "            \"a fractured hazelnut with crack lines\"\n",
        "        ],\n",
        "        \"cut\": [\n",
        "            \"a hazelnut with a clean straight cut\",\n",
        "            \"a sliced hazelnut with sharp edges\",\n",
        "            \"a hazelnut cut with a blade\",\n",
        "            \"a hazelnut with a linear slice mark\"\n",
        "        ],\n",
        "        \"hole\": [\n",
        "            \"a hazelnut with a round hole opening\",\n",
        "            \"a punctured hazelnut with circular damage\",\n",
        "            \"a hazelnut with a deep circular hole\",\n",
        "            \"a hazelnut with hole penetrating the shell\"\n",
        "        ],\n",
        "        \"print\": [\n",
        "            \"a hazelnut with text printed on surface\",\n",
        "            \"a hazelnut with visible ink markings\",\n",
        "            \"a hazelnut with stamped letters or numbers\",\n",
        "            \"a hazelnut with artificial printing overlay\"\n",
        "        ]\n",
        "    },\n",
        "    model_name=\"ViT-B/16\",           # Better model for finer details\n",
        "    patch_size=96,                   # Smaller patches for local defects\n",
        "    stride=48,                       # Higher overlap\n",
        "    confidence_threshold=0.25,       # Lower threshold to catch subtle defects\n",
        "    aggregation_method=\"max_confidence\"\n",
        ")\n",
        "\n",
        "# SOLUTION 2: High-resolution configuration\n",
        "high_res_spec = DefectClassificationSpec(\n",
        "    model_name=\"ViT-L/14\",           # Most powerful CLIP model\n",
        "    patch_size=64,                   # Very fine-grained patches\n",
        "    stride=32,                       # Maximum overlap\n",
        "    confidence_threshold=0.2,        # Very sensitive\n",
        "    aggregation_method=\"majority_vote\"  # Democratic voting\n",
        ")\n",
        "\n",
        "# SOLUTION 3: Conservative configuration (reduce false positives)\n",
        "conservative_spec = DefectClassificationSpec(\n",
        "    model_name=\"ViT-B/16\",\n",
        "    patch_size=128,\n",
        "    stride=96,                       # Less overlap, faster processing\n",
        "    confidence_threshold=0.4,        # Higher threshold\n",
        "    aggregation_method=\"max_confidence\"\n",
        ")\n",
        "\n",
        "print(\"🔧 TESTING IMPROVED CONFIGURATIONS\")\n",
        "print(\"=\" * 60)\n",
        "\n",
        "test_dir = Path(\"data\")\n",
        "\n",
        "# Test each configuration\n",
        "configs = {\n",
        "    \"Improved Prompts\": improved_defect_spec,\n",
        "    \"High Resolution\": high_res_spec,\n",
        "    \"Conservative\": conservative_spec\n",
        "}\n",
        "\n",
        "best_accuracy = 0\n",
        "best_config = None\n",
        "all_results = {}\n",
        "\n",
        "for config_name, spec in configs.items():\n",
        "    print(f\"\\n🧪 Testing {config_name} Configuration\")\n",
        "    print(f\"   Model: {spec.model_name}\")\n",
        "    print(f\"   Patches: {spec.patch_size}x{spec.patch_size}, stride={spec.stride}\")\n",
        "    print(f\"   Threshold: {spec.confidence_threshold}\")\n",
        "    print(f\"   Aggregation: {spec.aggregation_method}\")\n",
        "    print(\"-\" * 40)\n",
        "\n",
        "    try:\n",
        "        y_true, y_pred = classify_defects(spec, test_dir)\n",
        "        metrics = evaluate_performance(y_true, y_pred)\n",
        "\n",
        "        all_results[config_name] = {\n",
        "            'metrics': metrics,\n",
        "            'predictions': (y_true, y_pred)\n",
        "        }\n",
        "\n",
        "        if metrics['accuracy'] > best_accuracy:\n",
        "            best_accuracy = metrics['accuracy']\n",
        "            best_config = config_name\n",
        "\n",
        "    except Exception as e:\n",
        "        print(f\"❌ Error in {config_name}: {e}\")\n",
        "        all_results[config_name] = None\n",
        "\n",
        "# Summary comparison\n",
        "print(\"\\n\" + \"=\" * 60)\n",
        "print(\"📊 CONFIGURATION COMPARISON SUMMARY\")\n",
        "print(\"=\" * 60)\n",
        "\n",
        "for config_name, results in all_results.items():\n",
        "    if results:\n",
        "        metrics = results['metrics']\n",
        "        print(f\"{config_name:20} | Acc: {metrics['accuracy']:.1%} | F1: {metrics['f1_score']:.1%} | Prec: {metrics['precision']:.1%}\")\n",
        "    else:\n",
        "        print(f\"{config_name:20} | FAILED\")\n",
        "\n",
        "if best_config:\n",
        "    print(f\"\\n🏆 BEST CONFIGURATION: {best_config}\")\n",
        "    print(f\"   Best Accuracy: {best_accuracy:.1%}\")\n",
        "\n",
        "# Diagnostic information\n",
        "print(\"\\n🔍 DIAGNOSTIC INFORMATION\")\n",
        "print(\"-\" * 40)\n",
        "print(\"Current issues observed:\")\n",
        "print(\"1. Heavy bias toward 'print' class - suggests prompts may be too similar\")\n",
        "print(\"2. Missing other defect types - may need more distinctive prompts\")\n",
        "print(\"3. Consider these improvements:\")\n",
        "print(\"   • Try negative prompts: 'a hazelnut without any holes'\")\n",
        "print(\"   • Use comparative prompts: 'a cracked hazelnut vs smooth hazelnut'\")\n",
        "print(\"   • Experiment with different patch sizes\")\n",
        "print(\"   • Consider ensemble of multiple models\")\n",
        "\n",
        "# Advanced debugging: Show per-class prediction distribution\n",
        "if best_config and all_results[best_config]:\n",
        "    y_true, y_pred = all_results[best_config]['predictions']\n",
        "\n",
        "    print(f\"\\n📈 Prediction Distribution for {best_config}:\")\n",
        "    from collections import Counter\n",
        "    true_dist = Counter(y_true)\n",
        "    pred_dist = Counter(y_pred)\n",
        "\n",
        "    print(\"True distribution:\", dict(true_dist))\n",
        "    print(\"Pred distribution:\", dict(pred_dist))\n",
        "\n",
        "    # Per-class accuracy\n",
        "    print(\"\\n📋 Per-class Results:\")\n",
        "    for class_name in set(y_true):\n",
        "        class_indices = [i for i, label in enumerate(y_true) if label == class_name]\n",
        "        class_true = [y_true[i] for i in class_indices]\n",
        "        class_pred = [y_pred[i] for i in class_indices]\n",
        "        class_acc = sum(1 for t, p in zip(class_true, class_pred) if t == p) / len(class_true)\n",
        "        print(f\"   {class_name:8}: {class_acc:.1%} ({len(class_true)} samples)\")"
      ],
      "metadata": {
        "colab": {
          "base_uri": "https://localhost:8080/"
        },
        "id": "7gMskmcOLLXM",
        "outputId": "ebfefb01-b6c7-475d-efa1-382c893f71ee"
      },
      "execution_count": null,
      "outputs": [
        {
          "output_type": "stream",
          "name": "stdout",
          "text": [
            "🔧 TESTING IMPROVED CONFIGURATIONS\n",
            "============================================================\n",
            "\n",
            "🧪 Testing Improved Prompts Configuration\n",
            "   Model: ViT-B/16\n",
            "   Patches: 96x96, stride=48\n",
            "   Threshold: 0.25\n",
            "   Aggregation: max_confidence\n",
            "----------------------------------------\n",
            "Loaded CLIP model: ViT-B/16 on cuda\n",
            "Using patch size: 96x96, stride: 48\n",
            "Encoding prompt ensembles...\n",
            "  good: 4 prompts encoded\n",
            "  crack: 4 prompts encoded\n",
            "  cut: 4 prompts encoded\n",
            "  hole: 4 prompts encoded\n",
            "  print: 4 prompts encoded\n",
            "Found 18 images\n",
            "Processing 1/18: hazelnut_print_016.png\n",
            "  Extracted 400 patches\n",
            "  Ground truth: print, Predicted: print\n",
            "Processing 2/18: hazelnut_print_009.png\n",
            "  Extracted 400 patches\n",
            "  Ground truth: print, Predicted: print\n",
            "Processing 3/18: hazelnut_print_011.png\n",
            "  Extracted 400 patches\n",
            "  Ground truth: print, Predicted: print\n",
            "Processing 4/18: hazelnut_print_004.png\n",
            "  Extracted 400 patches\n",
            "  Ground truth: print, Predicted: print\n",
            "Processing 5/18: hazelnut_good_037.png\n",
            "  Extracted 400 patches\n",
            "  Ground truth: good, Predicted: print\n",
            "Processing 6/18: hazelnut_cut_003.png\n",
            "  Extracted 400 patches\n",
            "  Ground truth: cut, Predicted: print\n",
            "Processing 7/18: hazelnut_hole_005.png\n",
            "  Extracted 400 patches\n",
            "  Ground truth: hole, Predicted: hole\n",
            "Processing 8/18: hazelnut_print_006.png\n",
            "  Extracted 400 patches\n",
            "  Ground truth: print, Predicted: cut\n",
            "Processing 9/18: hazelnut_crack_002.png\n",
            "  Extracted 400 patches\n",
            "  Ground truth: crack, Predicted: crack\n",
            "Processing 10/18: hazelnut_print_013.png\n",
            "  Extracted 400 patches\n",
            "  Ground truth: print, Predicted: cut\n",
            "Processing 11/18: hazelnut_print_005.png\n",
            "  Extracted 400 patches\n",
            "  Ground truth: print, Predicted: print\n",
            "Processing 12/18: hazelnut_print_012.png\n",
            "  Extracted 400 patches\n",
            "  Ground truth: print, Predicted: print\n",
            "Processing 13/18: hazelnut_hole_010.png\n",
            "  Extracted 400 patches\n",
            "  Ground truth: hole, Predicted: hole\n",
            "Processing 14/18: hazelnut_hole_016.png\n",
            "  Extracted 400 patches\n",
            "  Ground truth: hole, Predicted: print\n",
            "Processing 15/18: hazelnut_good_023.png\n",
            "  Extracted 400 patches\n",
            "  Ground truth: good, Predicted: cut\n",
            "Processing 16/18: hazelnut_print_007.png\n",
            "  Extracted 400 patches\n",
            "  Ground truth: print, Predicted: print\n",
            "Processing 17/18: hazelnut_print_003.png\n",
            "  Extracted 400 patches\n",
            "  Ground truth: print, Predicted: print\n",
            "Processing 18/18: hazelnut_hole_013.png\n",
            "  Extracted 400 patches\n",
            "  Ground truth: hole, Predicted: cut\n",
            "\n",
            "==================================================\n",
            "CLASSIFICATION RESULTS\n",
            "==================================================\n",
            "Overall Accuracy: 0.6111\n",
            "Weighted Precision: 0.6818\n",
            "Weighted Recall: 0.6111\n",
            "Weighted F1-Score: 0.6270\n",
            "\n",
            "Detailed Classification Report:\n",
            "              precision    recall  f1-score   support\n",
            "\n",
            "       crack       1.00      1.00      1.00         1\n",
            "         cut       0.00      0.00      0.00         1\n",
            "        good       0.00      0.00      0.00         2\n",
            "        hole       1.00      0.50      0.67         4\n",
            "       print       0.73      0.80      0.76        10\n",
            "\n",
            "    accuracy                           0.61        18\n",
            "   macro avg       0.55      0.46      0.49        18\n",
            "weighted avg       0.68      0.61      0.63        18\n",
            "\n",
            "\n",
            "🧪 Testing High Resolution Configuration\n",
            "   Model: ViT-L/14\n",
            "   Patches: 64x64, stride=32\n",
            "   Threshold: 0.2\n",
            "   Aggregation: majority_vote\n",
            "----------------------------------------\n"
          ]
        },
        {
          "output_type": "stream",
          "name": "stderr",
          "text": [
            "/usr/local/lib/python3.12/dist-packages/sklearn/metrics/_classification.py:1565: UndefinedMetricWarning: Precision is ill-defined and being set to 0.0 in labels with no predicted samples. Use `zero_division` parameter to control this behavior.\n",
            "  _warn_prf(average, modifier, f\"{metric.capitalize()} is\", len(result))\n",
            "/usr/local/lib/python3.12/dist-packages/sklearn/metrics/_classification.py:1565: UndefinedMetricWarning: Precision is ill-defined and being set to 0.0 in labels with no predicted samples. Use `zero_division` parameter to control this behavior.\n",
            "  _warn_prf(average, modifier, f\"{metric.capitalize()} is\", len(result))\n",
            "/usr/local/lib/python3.12/dist-packages/sklearn/metrics/_classification.py:1565: UndefinedMetricWarning: Precision is ill-defined and being set to 0.0 in labels with no predicted samples. Use `zero_division` parameter to control this behavior.\n",
            "  _warn_prf(average, modifier, f\"{metric.capitalize()} is\", len(result))\n",
            "/usr/local/lib/python3.12/dist-packages/sklearn/metrics/_classification.py:1565: UndefinedMetricWarning: Precision is ill-defined and being set to 0.0 in labels with no predicted samples. Use `zero_division` parameter to control this behavior.\n",
            "  _warn_prf(average, modifier, f\"{metric.capitalize()} is\", len(result))\n"
          ]
        },
        {
          "output_type": "stream",
          "name": "stdout",
          "text": [
            "Loaded CLIP model: ViT-L/14 on cuda\n",
            "Using patch size: 64x64, stride: 32\n",
            "Encoding prompt ensembles...\n",
            "  good: 4 prompts encoded\n",
            "  crack: 4 prompts encoded\n",
            "  cut: 4 prompts encoded\n",
            "  hole: 4 prompts encoded\n",
            "  print: 4 prompts encoded\n",
            "Found 18 images\n",
            "Processing 1/18: hazelnut_print_016.png\n",
            "  Extracted 961 patches\n",
            "  Ground truth: print, Predicted: print\n",
            "Processing 2/18: hazelnut_print_009.png\n",
            "  Extracted 961 patches\n",
            "  Ground truth: print, Predicted: print\n",
            "Processing 3/18: hazelnut_print_011.png\n",
            "  Extracted 961 patches\n",
            "  Ground truth: print, Predicted: print\n",
            "Processing 4/18: hazelnut_print_004.png\n",
            "  Extracted 961 patches\n",
            "  Ground truth: print, Predicted: print\n",
            "Processing 5/18: hazelnut_good_037.png\n",
            "  Extracted 961 patches\n",
            "  Ground truth: good, Predicted: print\n",
            "Processing 6/18: hazelnut_cut_003.png\n",
            "  Extracted 961 patches\n",
            "  Ground truth: cut, Predicted: print\n",
            "Processing 7/18: hazelnut_hole_005.png\n",
            "  Extracted 961 patches\n",
            "  Ground truth: hole, Predicted: print\n",
            "Processing 8/18: hazelnut_print_006.png\n",
            "  Extracted 961 patches\n",
            "  Ground truth: print, Predicted: print\n",
            "Processing 9/18: hazelnut_crack_002.png\n",
            "  Extracted 961 patches\n",
            "  Ground truth: crack, Predicted: print\n",
            "Processing 10/18: hazelnut_print_013.png\n",
            "  Extracted 961 patches\n",
            "  Ground truth: print, Predicted: print\n",
            "Processing 11/18: hazelnut_print_005.png\n",
            "  Extracted 961 patches\n",
            "  Ground truth: print, Predicted: print\n",
            "Processing 12/18: hazelnut_print_012.png\n",
            "  Extracted 961 patches\n",
            "  Ground truth: print, Predicted: print\n",
            "Processing 13/18: hazelnut_hole_010.png\n",
            "  Extracted 961 patches\n",
            "  Ground truth: hole, Predicted: print\n",
            "Processing 14/18: hazelnut_hole_016.png\n",
            "  Extracted 961 patches\n",
            "  Ground truth: hole, Predicted: print\n",
            "Processing 15/18: hazelnut_good_023.png\n",
            "  Extracted 961 patches\n",
            "  Ground truth: good, Predicted: print\n",
            "Processing 16/18: hazelnut_print_007.png\n",
            "  Extracted 961 patches\n",
            "  Ground truth: print, Predicted: print\n",
            "Processing 17/18: hazelnut_print_003.png\n",
            "  Extracted 961 patches\n",
            "  Ground truth: print, Predicted: print\n",
            "Processing 18/18: hazelnut_hole_013.png\n",
            "  Extracted 961 patches\n",
            "  Ground truth: hole, Predicted: print\n",
            "\n",
            "==================================================\n",
            "CLASSIFICATION RESULTS\n",
            "==================================================\n",
            "Overall Accuracy: 0.5556\n",
            "Weighted Precision: 0.3086\n",
            "Weighted Recall: 0.5556\n",
            "Weighted F1-Score: 0.3968\n",
            "\n",
            "Detailed Classification Report:\n",
            "              precision    recall  f1-score   support\n",
            "\n",
            "       crack       0.00      0.00      0.00         1\n",
            "         cut       0.00      0.00      0.00         1\n",
            "        good       0.00      0.00      0.00         2\n",
            "        hole       0.00      0.00      0.00         4\n",
            "       print       0.56      1.00      0.71        10\n",
            "\n",
            "    accuracy                           0.56        18\n",
            "   macro avg       0.11      0.20      0.14        18\n",
            "weighted avg       0.31      0.56      0.40        18\n",
            "\n",
            "\n",
            "🧪 Testing Conservative Configuration\n",
            "   Model: ViT-B/16\n",
            "   Patches: 128x128, stride=96\n",
            "   Threshold: 0.4\n",
            "   Aggregation: max_confidence\n",
            "----------------------------------------\n"
          ]
        },
        {
          "output_type": "stream",
          "name": "stderr",
          "text": [
            "/usr/local/lib/python3.12/dist-packages/sklearn/metrics/_classification.py:1565: UndefinedMetricWarning: Precision is ill-defined and being set to 0.0 in labels with no predicted samples. Use `zero_division` parameter to control this behavior.\n",
            "  _warn_prf(average, modifier, f\"{metric.capitalize()} is\", len(result))\n",
            "/usr/local/lib/python3.12/dist-packages/sklearn/metrics/_classification.py:1565: UndefinedMetricWarning: Precision is ill-defined and being set to 0.0 in labels with no predicted samples. Use `zero_division` parameter to control this behavior.\n",
            "  _warn_prf(average, modifier, f\"{metric.capitalize()} is\", len(result))\n",
            "/usr/local/lib/python3.12/dist-packages/sklearn/metrics/_classification.py:1565: UndefinedMetricWarning: Precision is ill-defined and being set to 0.0 in labels with no predicted samples. Use `zero_division` parameter to control this behavior.\n",
            "  _warn_prf(average, modifier, f\"{metric.capitalize()} is\", len(result))\n",
            "/usr/local/lib/python3.12/dist-packages/sklearn/metrics/_classification.py:1565: UndefinedMetricWarning: Precision is ill-defined and being set to 0.0 in labels with no predicted samples. Use `zero_division` parameter to control this behavior.\n",
            "  _warn_prf(average, modifier, f\"{metric.capitalize()} is\", len(result))\n"
          ]
        },
        {
          "output_type": "stream",
          "name": "stdout",
          "text": [
            "Loaded CLIP model: ViT-B/16 on cuda\n",
            "Using patch size: 128x128, stride: 96\n",
            "Encoding prompt ensembles...\n",
            "  good: 4 prompts encoded\n",
            "  crack: 4 prompts encoded\n",
            "  cut: 4 prompts encoded\n",
            "  hole: 4 prompts encoded\n",
            "  print: 4 prompts encoded\n",
            "Found 18 images\n",
            "Processing 1/18: hazelnut_print_016.png\n",
            "  Extracted 100 patches\n",
            "  Ground truth: print, Predicted: good\n",
            "Processing 2/18: hazelnut_print_009.png\n",
            "  Extracted 100 patches\n",
            "  Ground truth: print, Predicted: good\n",
            "Processing 3/18: hazelnut_print_011.png\n",
            "  Extracted 100 patches\n",
            "  Ground truth: print, Predicted: good\n",
            "Processing 4/18: hazelnut_print_004.png\n",
            "  Extracted 100 patches\n",
            "  Ground truth: print, Predicted: good\n",
            "Processing 5/18: hazelnut_good_037.png\n",
            "  Extracted 100 patches\n",
            "  Ground truth: good, Predicted: good\n",
            "Processing 6/18: hazelnut_cut_003.png\n",
            "  Extracted 100 patches\n",
            "  Ground truth: cut, Predicted: good\n",
            "Processing 7/18: hazelnut_hole_005.png\n",
            "  Extracted 100 patches\n",
            "  Ground truth: hole, Predicted: good\n",
            "Processing 8/18: hazelnut_print_006.png\n",
            "  Extracted 100 patches\n",
            "  Ground truth: print, Predicted: good\n",
            "Processing 9/18: hazelnut_crack_002.png\n",
            "  Extracted 100 patches\n",
            "  Ground truth: crack, Predicted: good\n",
            "Processing 10/18: hazelnut_print_013.png\n",
            "  Extracted 100 patches\n",
            "  Ground truth: print, Predicted: good\n",
            "Processing 11/18: hazelnut_print_005.png\n",
            "  Extracted 100 patches\n",
            "  Ground truth: print, Predicted: good\n",
            "Processing 12/18: hazelnut_print_012.png\n",
            "  Extracted 100 patches\n",
            "  Ground truth: print, Predicted: good\n",
            "Processing 13/18: hazelnut_hole_010.png\n",
            "  Extracted 100 patches\n",
            "  Ground truth: hole, Predicted: good\n",
            "Processing 14/18: hazelnut_hole_016.png\n",
            "  Extracted 100 patches\n",
            "  Ground truth: hole, Predicted: good\n",
            "Processing 15/18: hazelnut_good_023.png\n",
            "  Extracted 100 patches\n",
            "  Ground truth: good, Predicted: good\n",
            "Processing 16/18: hazelnut_print_007.png\n",
            "  Extracted 100 patches\n",
            "  Ground truth: print, Predicted: good\n",
            "Processing 17/18: hazelnut_print_003.png\n",
            "  Extracted 100 patches\n",
            "  Ground truth: print, Predicted: good\n",
            "Processing 18/18: hazelnut_hole_013.png\n",
            "  Extracted 100 patches\n",
            "  Ground truth: hole, Predicted: good\n",
            "\n",
            "==================================================\n",
            "CLASSIFICATION RESULTS\n",
            "==================================================\n",
            "Overall Accuracy: 0.1111\n",
            "Weighted Precision: 0.0123\n",
            "Weighted Recall: 0.1111\n",
            "Weighted F1-Score: 0.0222\n",
            "\n",
            "Detailed Classification Report:\n",
            "              precision    recall  f1-score   support\n",
            "\n",
            "       crack       0.00      0.00      0.00         1\n",
            "         cut       0.00      0.00      0.00         1\n",
            "        good       0.11      1.00      0.20         2\n",
            "        hole       0.00      0.00      0.00         4\n",
            "       print       0.00      0.00      0.00        10\n",
            "\n",
            "    accuracy                           0.11        18\n",
            "   macro avg       0.02      0.20      0.04        18\n",
            "weighted avg       0.01      0.11      0.02        18\n",
            "\n",
            "\n",
            "============================================================\n",
            "📊 CONFIGURATION COMPARISON SUMMARY\n",
            "============================================================\n",
            "Improved Prompts     | Acc: 61.1% | F1: 62.7% | Prec: 68.2%\n",
            "High Resolution      | Acc: 55.6% | F1: 39.7% | Prec: 30.9%\n",
            "Conservative         | Acc: 11.1% | F1: 2.2% | Prec: 1.2%\n",
            "\n",
            "🏆 BEST CONFIGURATION: Improved Prompts\n",
            "   Best Accuracy: 61.1%\n",
            "\n",
            "🔍 DIAGNOSTIC INFORMATION\n",
            "----------------------------------------\n",
            "Current issues observed:\n",
            "1. Heavy bias toward 'print' class - suggests prompts may be too similar\n",
            "2. Missing other defect types - may need more distinctive prompts\n",
            "3. Consider these improvements:\n",
            "   • Try negative prompts: 'a hazelnut without any holes'\n",
            "   • Use comparative prompts: 'a cracked hazelnut vs smooth hazelnut'\n",
            "   • Experiment with different patch sizes\n",
            "   • Consider ensemble of multiple models\n",
            "\n",
            "📈 Prediction Distribution for Improved Prompts:\n",
            "True distribution: {'print': 10, 'good': 2, 'cut': 1, 'hole': 4, 'crack': 1}\n",
            "Pred distribution: {'print': 11, 'hole': 2, 'cut': 4, 'crack': 1}\n",
            "\n",
            "📋 Per-class Results:\n",
            "   cut     : 0.0% (1 samples)\n",
            "   crack   : 100.0% (1 samples)\n",
            "   good    : 0.0% (2 samples)\n",
            "   print   : 80.0% (10 samples)\n",
            "   hole    : 50.0% (4 samples)\n"
          ]
        },
        {
          "output_type": "stream",
          "name": "stderr",
          "text": [
            "/usr/local/lib/python3.12/dist-packages/sklearn/metrics/_classification.py:1565: UndefinedMetricWarning: Precision is ill-defined and being set to 0.0 in labels with no predicted samples. Use `zero_division` parameter to control this behavior.\n",
            "  _warn_prf(average, modifier, f\"{metric.capitalize()} is\", len(result))\n",
            "/usr/local/lib/python3.12/dist-packages/sklearn/metrics/_classification.py:1565: UndefinedMetricWarning: Precision is ill-defined and being set to 0.0 in labels with no predicted samples. Use `zero_division` parameter to control this behavior.\n",
            "  _warn_prf(average, modifier, f\"{metric.capitalize()} is\", len(result))\n",
            "/usr/local/lib/python3.12/dist-packages/sklearn/metrics/_classification.py:1565: UndefinedMetricWarning: Precision is ill-defined and being set to 0.0 in labels with no predicted samples. Use `zero_division` parameter to control this behavior.\n",
            "  _warn_prf(average, modifier, f\"{metric.capitalize()} is\", len(result))\n",
            "/usr/local/lib/python3.12/dist-packages/sklearn/metrics/_classification.py:1565: UndefinedMetricWarning: Precision is ill-defined and being set to 0.0 in labels with no predicted samples. Use `zero_division` parameter to control this behavior.\n",
            "  _warn_prf(average, modifier, f\"{metric.capitalize()} is\", len(result))\n"
          ]
        }
      ]
    },
    {
      "cell_type": "code",
      "source": [],
      "metadata": {
        "id": "y3pDxUjHom_E"
      },
      "execution_count": null,
      "outputs": []
    },
    {
      "cell_type": "code",
      "source": [
        "#\n",
        "@title TO DO: Print the confusion matrix using the predictions and ground truth labels"
      ],
      "metadata": {
        "id": "06ea5MK29WdT"
      },
      "execution_count": null,
      "outputs": []
    },
    {
      "cell_type": "code",
      "source": [],
      "metadata": {
        "id": "_ZhMjq2ejE8U"
      },
      "execution_count": null,
      "outputs": []
    },
    {
      "cell_type": "markdown",
      "source": [
        "## Observations (TO DO)\n",
        "\n",
        "What did you observe? Will a different classification spec improve things? If yes, then try it out below."
      ],
      "metadata": {
        "id": "Ue3yl27g98Br"
      }
    },
    {
      "cell_type": "markdown",
      "source": [
        "## [Optional/Bonus] Rerun 1: With a different spec"
      ],
      "metadata": {
        "id": "gQwmPBQm-LBc"
      }
    },
    {
      "cell_type": "code",
      "source": [],
      "metadata": {
        "id": "elDl6oix-MAE"
      },
      "execution_count": null,
      "outputs": []
    },
    {
      "cell_type": "markdown",
      "source": [
        "# Bring code into the main branch"
      ],
      "metadata": {
        "id": "HUvORgQE8eq1"
      }
    },
    {
      "cell_type": "code",
      "source": [
        "#@title TO DO: Commit the changes to the python files to the current feature branch\n",
        "\n",
        "!git add *.py\n",
        "\n",
        "\n",
        "!git commit -m \"Updated spec.py and clip_ac.py with latest fixes\"\n"
      ],
      "metadata": {
        "id": "xt6lJ9nI8iW2",
        "colab": {
          "base_uri": "https://localhost:8080/"
        },
        "outputId": "c32c78ce-0194-4b98-cffc-8eb383084036"
      },
      "execution_count": null,
      "outputs": [
        {
          "output_type": "stream",
          "name": "stdout",
          "text": [
            "[feature/template-code cc00bf1] Updated spec.py and clip_ac.py with latest fixes\n",
            " 6 files changed, 1068 insertions(+), 35 deletions(-)\n",
            " rewrite clip_ac.py (61%)\n",
            " create mode 100644 clip_ac0.py\n",
            " create mode 100644 clip_ac1.py\n",
            " create mode 100644 spec0.py\n",
            " create mode 100644 spec1.py\n"
          ]
        }
      ]
    },
    {
      "cell_type": "code",
      "source": [
        "#@title TO DO: Switch to the main branch, and merge the feature branch into the main branch\n",
        "# Switch to main branch\n",
        "!git checkout main\n",
        "\n",
        "# Make sure main is up to date\n",
        "!git pull origin main\n",
        "\n",
        "# Merge your feature branch into main (replace with actual branch name)\n",
        "!git merge feature/template-code\n",
        "\n",
        "# Push the updated main branch to remote\n",
        "!git push origin main\n",
        "\n"
      ],
      "metadata": {
        "id": "trcQs5Yn8on2",
        "colab": {
          "base_uri": "https://localhost:8080/"
        },
        "outputId": "0ff21ed9-e7d1-444e-a6d5-ee80d3b4193a"
      },
      "execution_count": null,
      "outputs": [
        {
          "output_type": "stream",
          "name": "stdout",
          "text": [
            "Already on 'main'\n",
            "Your branch is ahead of 'origin/main' by 3 commits.\n",
            "  (use \"git push\" to publish your local commits)\n",
            "From https://github.com/akridata-ai/ZS-CLIP-AC-naive\n",
            " * branch            main       -> FETCH_HEAD\n",
            "Already up to date.\n",
            "Already up to date.\n",
            "fatal: could not read Username for 'https://github.com': No such device or address\n"
          ]
        }
      ]
    },
    {
      "cell_type": "code",
      "source": [
        "#@title TO DO: Verify git log to see the latest commit\n",
        "!git log -5 --oneline"
      ],
      "metadata": {
        "id": "ObNPqILE8t3l",
        "colab": {
          "base_uri": "https://localhost:8080/"
        },
        "outputId": "ae4cf28c-3f3a-42ba-a951-0484506ad717"
      },
      "execution_count": null,
      "outputs": [
        {
          "output_type": "stream",
          "name": "stdout",
          "text": [
            "\u001b[33mcc00bf1\u001b[m\u001b[33m (\u001b[m\u001b[1;36mHEAD -> \u001b[m\u001b[1;32mmain\u001b[m\u001b[33m, \u001b[m\u001b[1;32mfeature/template-code\u001b[m\u001b[33m)\u001b[m Updated spec.py and clip_ac.py with latest fixes\n",
            "\u001b[33mc9d8665\u001b[m\u001b[33m (\u001b[m\u001b[1;31morigin/feature/template-code\u001b[m\u001b[33m)\u001b[m Update README.md to fix 'References'\n",
            "\u001b[33m3a22633\u001b[m Template code for the assignment.\n",
            "\u001b[33md6c1daf\u001b[m\u001b[33m (\u001b[m\u001b[1;31morigin/main\u001b[m\u001b[33m, \u001b[m\u001b[1;31morigin/HEAD\u001b[m\u001b[33m)\u001b[m Basic project structure.\n"
          ]
        }
      ]
    },
    {
      "cell_type": "code",
      "source": [
        "#@title TO DO: Display the changes in the `spec.py` file in the main branch\n",
        "!git diff main -- spec.py\n",
        "!cat spec.py\n"
      ],
      "metadata": {
        "id": "9sbVemf88yV9",
        "colab": {
          "base_uri": "https://localhost:8080/"
        },
        "outputId": "1eb1544c-e055-44f0-cf83-a79ff7de26f0"
      },
      "execution_count": null,
      "outputs": [
        {
          "output_type": "stream",
          "name": "stdout",
          "text": [
            "\"\"\"\n",
            "Spec containing the configuration for the defect classification task\n",
            "\"\"\"\n",
            "from pydantic import BaseModel\n",
            "from typing import List, Dict\n",
            "\n",
            "\n",
            "class DefectClassificationSpec(BaseModel):\n",
            "    \"\"\"\n",
            "    Configuration for defect classification.\n",
            "\n",
            "    Attributes:\n",
            "        class_names: List[str]; The list of class names (normal, defect categories).\n",
            "        prompts: Dict[str, List[str]]; Dictionary mapping class names to multiple prompt templates.\n",
            "        model_name (str): Name of the CLIP model variant to use.\n",
            "        patch_size (int): Size of sliding window patches (e.g., 64, 128).\n",
            "        stride (int): Stride for sliding window (overlap control).\n",
            "        confidence_threshold (float): Threshold for good vs defect classification.\n",
            "        aggregation_method (str): Method for aggregating patch predictions ('majority_vote' or 'max_confidence').\n",
            "    \"\"\"\n",
            "\n",
            "    class_names: List[str] = [\n",
            "        \"good\", \"crack\", \"cut\", \"hole\", \"print\"\n",
            "    ]\n",
            "\n",
            "    prompts: Dict[str, List[str]] = {\n",
            "    \"good\": [\n",
            "        \"a flawless hazelnut with perfect smooth surface and no defects\",\n",
            "        \"a pristine undamaged hazelnut with clean natural shell\",\n",
            "        \"a healthy intact hazelnut without any marks or damage\",\n",
            "        \"a normal hazelnut with no holes, cracks, cuts, or printing\"\n",
            "    ],\n",
            "    \"hole\": [\n",
            "        \"a severely damaged hazelnut with large deep circular hole\",\n",
            "        \"a punctured hazelnut with obvious round opening through shell\",\n",
            "        \"a hazelnut with major hole damage and visible cavity\",\n",
            "        \"a broken hazelnut with clear circular puncture wound\"\n",
            "    ],\n",
            "    \"crack\": [\n",
            "        \"a heavily cracked hazelnut with deep visible fracture lines\",\n",
            "        \"a severely damaged hazelnut with obvious splitting breaks\",\n",
            "        \"a broken hazelnut shell with major crack damage\",\n",
            "        \"a fractured hazelnut with clear linear splitting marks\"\n",
            "    ],\n",
            "    \"cut\": [\n",
            "        \"a hazelnut with precise straight blade cut completely through\",\n",
            "        \"a cleanly sliced hazelnut showing sharp linear cutting edge\",\n",
            "        \"a hazelnut cut in half with obvious straight blade marks\",\n",
            "        \"a surgically cut hazelnut with clean linear slice damage\"\n",
            "    ],\n",
            "    \"print\": [\n",
            "        \"a hazelnut with obvious dark text letters clearly printed on surface\",\n",
            "        \"a hazelnut with distinct readable ink markings and characters\",\n",
            "        \"a hazelnut showing clear artificial text printing overlay\",\n",
            "        \"a hazelnut with visible stamped letters and readable text marks\"\n",
            "    ]\n",
            "}\n",
            "\n",
            "    model_name: str = \"ViT-B/32\"\n",
            "    patch_size: int = 128\n",
            "    stride: int = 64\n",
            "    confidence_threshold: float = 0.3\n",
            "    aggregation_method: str = \"max_confidence\"  # or \"majority_vote\"\n"
          ]
        }
      ]
    },
    {
      "cell_type": "code",
      "source": [
        "!git remote -v\n"
      ],
      "metadata": {
        "colab": {
          "base_uri": "https://localhost:8080/"
        },
        "id": "XniaaQntZBSK",
        "outputId": "3812bfb1-c32b-4688-9808-7c7880f93f9e"
      },
      "execution_count": null,
      "outputs": [
        {
          "output_type": "stream",
          "name": "stdout",
          "text": [
            "origin\thttps://github.com/akridata-ai/ZS-CLIP-AC-naive.git (fetch)\n",
            "origin\thttps://github.com/akridata-ai/ZS-CLIP-AC-naive.git (push)\n"
          ]
        }
      ]
    },
    {
      "cell_type": "code",
      "source": [
        "!git push origin main\n"
      ],
      "metadata": {
        "colab": {
          "base_uri": "https://localhost:8080/"
        },
        "id": "jtlKMPxwZBMW",
        "outputId": "4a265196-21a2-4a12-85d1-91de77759b77"
      },
      "execution_count": null,
      "outputs": [
        {
          "output_type": "stream",
          "name": "stdout",
          "text": [
            "fatal: could not read Username for 'https://github.com': No such device or address\n"
          ]
        }
      ]
    },
    {
      "cell_type": "markdown",
      "source": [
        "# Submission\n",
        "\n",
        "* Verify that this Colab notebook is owned by you, and in your Google Drive.\n",
        "* Change the 'Share' settings to 'Anyone with the link' - give read access only.\n",
        "* Copy the link to the notebook through the 'Share' settings.\n",
        "* Open a new anonymous browser window, where you are not signed in. Verify that the link you copied opens the notebook, and that all outputs are visible.\n",
        "* Submit this link through the internship application form."
      ],
      "metadata": {
        "id": "b8Deeu1yHHwc"
      }
    }
  ]
}